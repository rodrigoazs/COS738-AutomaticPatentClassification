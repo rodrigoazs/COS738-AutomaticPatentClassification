{
 "cells": [
  {
   "cell_type": "code",
   "execution_count": 1,
   "metadata": {
    "collapsed": true
   },
   "outputs": [],
   "source": [
    "#!/usr/bin/env python3\n",
    "# -*- coding: latin-1 -*-\n",
    "\"\"\"\n",
    "Created on Mon Aug 14 22:14:55 2017\n",
    "@author: rodrigo\n",
    "\"\"\"\n",
    "\n",
    "# Importing the libraries\n",
    "import numpy as np\n",
    "import matplotlib.pyplot as plt\n",
    "import pandas as pd\n",
    "import random\n",
    "import re"
   ]
  },
  {
   "cell_type": "code",
   "execution_count": 41,
   "metadata": {
    "collapsed": false
   },
   "outputs": [],
   "source": [
    "# Importing the dataset\n",
    "# by a first class\n",
    "def get_dataset(first_class = 'H', max_N=0):\n",
    "    \n",
    "    X = []\n",
    "    y = []\n",
    "    \n",
    "    with open('../GitHub/output/full.csv', 'r', encoding=\"latin-1\") as file:\n",
    "        i_N = 0\n",
    "        for line in file:\n",
    "            if max_N == 0 or i_N < max_N:\n",
    "                data = line.split('|')\n",
    "                if len(data) == 7:\n",
    "                    data_classes = data[1].split(',')\n",
    "                    cl_set = set()\n",
    "                    for cl in data_classes:\n",
    "                        c = cl.upper()\n",
    "                        c = c.replace(' ', '')\n",
    "                        a = re.search(r'([A-Z])([0-9]{2})([A-Z])', c, re.M|re.I)\n",
    "                        try:\n",
    "                            if a.group(1) == first_class:\n",
    "                                cl_set.add(a.group(1) + a.group(2) + a.group(3))\n",
    "                        except:\n",
    "                            pass\n",
    "                    if len(cl_set) > 0:\n",
    "                        X.append([data[2], data[3]])\n",
    "                        y.append(list(cl_set))\n",
    "                        i_N += 1\n",
    "    return [X, y]\n"
   ]
  },
  {
   "cell_type": "code",
   "execution_count": 42,
   "metadata": {
    "collapsed": false
   },
   "outputs": [],
   "source": [
    "# index 0: title, summary\n",
    "# index 1: list of classes by id\n",
    "# index 2: classes by name and their respective ids\n",
    "dataset = get_dataset(first_class = 'H')"
   ]
  },
  {
   "cell_type": "code",
   "execution_count": 44,
   "metadata": {
    "collapsed": false
   },
   "outputs": [
    {
     "data": {
      "text/plain": [
       "[[\"Envolt'orio para m'aquinas el'etricas\",\n",
       "  \"'E proposto em envolt'orio para m'aquinas el'etricas, sobretudo dispositivos de arranque de motores de combust~ao interna, o qual serve para a prote$c~ao das m'aquinas el'etricas contra a penetra$c~ao de sujidade e umidade, bem como contra corros~ao. O envolt'orio consiste de pelo menos uma folheta (7) que est'a empurrada ou puxada sobre as pe$cas (2 a 5) da m'aquina el'etrica a serem envolvidas, pode estar colada sobre as pe$cas (2 a 5) e est'a fixamente contra'ida sobre as pe$cas envoltas (2 a 5). Em compara$c~ao com os convencionais revestimentos de verniz, o envolt'orio forma uma prote$c~ao simples, mais favor'avel ambientalmente e mais apropriada para a fabrica$c~ao econ^omica em grandes quantidades.\"],\n",
       " [\"Aperfei$coamento em interruptor de luz temporizado anal'ogico/digital\",\n",
       "  \"A presente patente se refere a um interruptor temporizado em que 'e poss'ivel optar pelo acionamento digital ou anal'ogico devido ao mesmo ser dotado de uma tecla convencional e um sensor de toque, sendo que o segundo ao ser acionado mant'em a l^ampada acesa com meia pot^encia por quatro minutos. Consiste o conjunto num espelho (1) e um suporte (2) duplo, id^enticos ao convencional sendo no lugar de uma das teclas fixada uma chapa met'alica (6) contendo um led (7) de sinaliza$c~ao e atr'as do suporte (2) localiza-se uma tampa (13) acondicionando a placa (8) do circuito eletr^onico.\"],\n",
       " [\"Tomada el'etrica com dispositivo interruptor e de prote$c~ao\",\n",
       "  '\"TOMADA EL\\'ETRICA COM DISPOSITIVO INTERRUPTOR E DE PROTE$C~AO\", do tipo que compreende um corpo-partido (1) com uma parte constituindo uma base (2) e a outra configurando uma tampa (3), dita caixa (1), tendo terminais internos para liga$c~ao el\\'etrica (4), aos quais interligam-se as extremidades desencapadas de um fio el\\'etrico qualquer, e para comportar a extremidade interna dos pinos conectores (5), cuja maior parte prolonga-se para fora da caixa (1), a tampa (3) contando ainda com uma janela (6), receptora de um interruptor el\\'etrico (7), eletricamente intercalado entre um dos terminais de liga$c~ao (4) e um dos pinos (5), de modo a interromper o fornecimento de energia el\\'etrica; enquanto que o outro pino (5) \\'e ligado diretamente ao outro terminal (4), com o interruptor (7) contando com um dispositivo de prote$c~ao termo-magn\\'etico, sendo para tal constitu\\'ido de uma haste (8), com uma das extremidades projetando-se para fora do corpo (1) e recebendo um bot~ao (9); enquanto que a extremidade oposta com um contato inferior (10), em prata ou outro material adequado qualquer, sendo ainda dita haste (8) axialmente flutuante em correspond^encia ao deslocamento de um fio ou fita termo magn\\'etica (11) que interliga aquela extremidade inferior da haste a um dos pinos (5), perfazendo um percurso curvil\\'ineo, dito interruptor (7), sendo ainda dotado de um estojo retentor (12), tendo um conjunto lateral de esfera molejada (13), interferente em dois rebaixos (14), posicionados lateralmente na haste (1), cada qual correspondente a uma das duas posi$c~oes poss\\'iveis para a haste (1).'],\n",
       " [\"Equipamento para o desengate de um conector el'etrico\",\n",
       "  \"O equipamento 'e capaz de desengatar um bloco de conex~ao f^emea (4) de um bloco de conex~ao macho (1) de um conector, em que este 'ultimo bloco 'e provido ao menos de um par de bra$cos (2) deform'aveis elasticamente, cada um dos quais apresenta um gancho de extremidade (3); nos conectores deste tipo o bloco de conex~ao f^emea 'e provido de ao menos um ressalto (5) que apresenta uma superf'icie de trava (9) contra a qual se engatam por press~ao os ditos ganchos; o equipamento compreende substancialmente uma lam'inula (14) provida de um par de aletas (15), cada uma das quais apresenta uma extremidade (16) conformada em cunha capaz de se inserir entre um dos bra$cos e o bloco de conex~ao f^emea e ao menos um dente (17) saliente da superf'icie inferior (18) da lam'inula e que 'e capaz de se inserir em uma adequada canaleta (10) formada no bloco de conex~ao f^emea.\"],\n",
       " ['Disposi$c~ao introduzida em pedestal para microfone',\n",
       "  '\"DISPOSI$C~AO INTRODUZIDA EM PEDESTAL PARA MICROFONE\", de um inovador modelo de pedestal (1) para microfone, dotado de tubo telesc\\'opico autom\\'atico, cujo deslizamento da extens~ao (4) \\'e feito atrav\\'es de leve press~ao no bot~ao (11) externo, que permite a movimenta$c~ao do tubo (5) guia, interno, o qual muda a posi$c~ao de arruela trava (7) para a horizontal, deslizando por haste (6) de se$c~ao quadrada, permitindo a suave e r\\'apida mudan$ca de altura do pedestal.']]"
      ]
     },
     "execution_count": 44,
     "metadata": {},
     "output_type": "execute_result"
    }
   ],
   "source": [
    "# example\n",
    "dataset[0][0:5]"
   ]
  },
  {
   "cell_type": "code",
   "execution_count": 48,
   "metadata": {
    "collapsed": true
   },
   "outputs": [],
   "source": [
    "# Binarize the labels\n",
    "# 0 if it is not part of the class\n",
    "# 1 otherwise\n",
    "X = dataset[0]\n",
    "y = dataset[1]\n",
    "\n",
    "from sklearn.preprocessing import MultiLabelBinarizer\n",
    "mlb = MultiLabelBinarizer()\n",
    "y = mlb.fit_transform(y)"
   ]
  },
  {
   "cell_type": "code",
   "execution_count": 50,
   "metadata": {
    "collapsed": false
   },
   "outputs": [],
   "source": [
    "# Cleaning the texts\n",
    "# remove everything but letters\n",
    "import re\n",
    "import nltk\n",
    "from nltk.stem.snowball import SnowballStemmer\n",
    "corpus_title = []\n",
    "corpus_summary = []\n",
    "stemmer = SnowballStemmer('portuguese')\n",
    "for i in range(len(X)):\n",
    "    title = X[i][0].split()\n",
    "    summary = X[i][1].split()\n",
    "    for j in range(len(title)):\n",
    "        title[j] = re.sub('[^a-zA-Z]', '', title[j])\n",
    "    for j in range(len(summary)):\n",
    "        summary[j] = re.sub('[^a-zA-Z]', '', summary[j])\n",
    "    title = [stemmer.stem(st) for st in title]\n",
    "    summary = [stemmer.stem(st) for st in summary]\n",
    "    title = ' '.join(title)\n",
    "    summary = ' '.join(summary)\n",
    "    corpus_title.append(title)\n",
    "    corpus_summary.append(summary)"
   ]
  },
  {
   "cell_type": "code",
   "execution_count": 58,
   "metadata": {
    "collapsed": false
   },
   "outputs": [
    {
     "name": "stdout",
     "output_type": "stream",
     "text": [
      "Size of X: 36137\n"
     ]
    }
   ],
   "source": [
    "print('Size of X: '+str(len(X)))"
   ]
  },
  {
   "cell_type": "code",
   "execution_count": 59,
   "metadata": {
    "collapsed": false
   },
   "outputs": [
    {
     "data": {
      "text/plain": [
       "'e propost em envoltori par maquin eletr sobretud disposit de arranqu de motor de combusta intern o qual serv par a proteca das maquin eletr contr a penetraca de sujidad e umidad bem com contr corrosa o envoltori cons de pel men uma folhet  que esta empurr ou pux sobr as pec  a  da maquin eletr a ser envolv pod estar col sobr as pec  a  e esta fix contra sobr as pec envolt  a  em comparaca com os convencion revest de verniz o envoltori form uma proteca simpl mais favoravel ambiental e mais apropri par a fabricaca econom em grand quantidad'"
      ]
     },
     "execution_count": 59,
     "metadata": {},
     "output_type": "execute_result"
    }
   ],
   "source": [
    "corpus_summary[0]"
   ]
  },
  {
   "cell_type": "code",
   "execution_count": 60,
   "metadata": {
    "collapsed": false
   },
   "outputs": [
    {
     "data": {
      "text/plain": [
       "'a present patent se refer a um interruptor temporiz em que e possivel optar pel acion digital ou analog dev ao mesm ser dot de uma tecl convencional e um sensor de toqu send que o segund ao ser acion mant a lamp aces com mei potenc por quatr minut cons o conjunt num espelh  e um suport  dupl ident ao convencional send no lug de uma das tecl fix uma chap metal  cont um led  de sinalizaca e atras do suport  localizas uma tamp  acondicion a plac  do circuit eletron'"
      ]
     },
     "execution_count": 60,
     "metadata": {},
     "output_type": "execute_result"
    }
   ],
   "source": [
    "corpus_summary[1]"
   ]
  },
  {
   "cell_type": "code",
   "execution_count": 61,
   "metadata": {
    "collapsed": false
   },
   "outputs": [
    {
     "data": {
      "text/plain": [
       "'envoltori par maquin eletr'"
      ]
     },
     "execution_count": 61,
     "metadata": {},
     "output_type": "execute_result"
    }
   ],
   "source": [
    "corpus_title[0]"
   ]
  },
  {
   "cell_type": "code",
   "execution_count": 62,
   "metadata": {
    "collapsed": false
   },
   "outputs": [
    {
     "data": {
      "text/plain": [
       "'aperfeico em interruptor de luz temporiz analogicodigital'"
      ]
     },
     "execution_count": 62,
     "metadata": {},
     "output_type": "execute_result"
    }
   ],
   "source": [
    "corpus_title[1]"
   ]
  },
  {
   "cell_type": "code",
   "execution_count": 63,
   "metadata": {
    "collapsed": true
   },
   "outputs": [],
   "source": [
    "# Vectorize titles and summary separately\n",
    "from sklearn.feature_extraction.text import CountVectorizer\n",
    "title_cv = CountVectorizer(max_features = None, ngram_range=(1,1))\n",
    "X_title = title_cv.fit_transform(corpus_title)\n",
    "summary_cv = CountVectorizer(max_features = None, ngram_range=(1,1))\n",
    "X_summary = summary_cv.fit_transform(corpus_summary)"
   ]
  },
  {
   "cell_type": "code",
   "execution_count": 64,
   "metadata": {
    "collapsed": false
   },
   "outputs": [],
   "source": [
    "# Apply SVD transformation n_components=50 separately\n",
    "from sklearn.decomposition import TruncatedSVD\n",
    "svd_title = TruncatedSVD(n_components=50)\n",
    "X_title = svd_title.fit_transform(X_title)\n",
    "\n",
    "from sklearn.decomposition import TruncatedSVD\n",
    "svd_summary = TruncatedSVD(n_components=50)\n",
    "X_summary = svd_summary.fit_transform(X_summary)"
   ]
  },
  {
   "cell_type": "code",
   "execution_count": 65,
   "metadata": {
    "collapsed": true
   },
   "outputs": [],
   "source": [
    "# Concatenate title and summary svd representation\n",
    "X = np.concatenate((X_title, X_summary), axis=1)"
   ]
  },
  {
   "cell_type": "code",
   "execution_count": 66,
   "metadata": {
    "collapsed": false
   },
   "outputs": [
    {
     "data": {
      "text/plain": [
       "array([  2.32604800e-01,   6.73060101e-01,  -5.88471045e-01,\n",
       "         6.40893505e-02,  -2.30426072e-01,   4.85245911e-02,\n",
       "         1.30155016e-01,   4.11542101e-02,   5.45377381e-02,\n",
       "         2.14583337e-02,   1.15036038e-01,  -1.08870731e-01,\n",
       "        -1.62640018e-01,  -3.98621345e-02,  -5.60066256e-02,\n",
       "         3.29069923e-03,  -4.55641616e-02,  -4.37927198e-02,\n",
       "        -2.62002964e-02,   1.46409829e-02,   1.61693794e-02,\n",
       "        -3.09958428e-02,   6.48476720e-04,   4.49647652e-03,\n",
       "         1.58714672e-03,   2.12486270e-02,   1.56369946e-02,\n",
       "         5.35067773e-03,  -7.74857710e-03,   6.78310289e-04,\n",
       "        -4.07101888e-02,  -2.34295095e-02,  -2.54731827e-02,\n",
       "         8.37118303e-03,   1.01269843e-02,  -4.11247862e-04,\n",
       "        -2.51817495e-03,  -3.23585317e-02,   5.07504520e-03,\n",
       "        -2.15958244e-02,   7.92310193e-03,  -9.16687099e-03,\n",
       "        -2.30142145e-02,   8.08727251e-04,   4.32303940e-02,\n",
       "        -3.20153964e-02,   6.17310736e-03,   2.51670813e-02,\n",
       "        -8.53457085e-03,  -2.43878403e-02,   7.33670768e+00,\n",
       "         1.11908042e+00,   2.29162505e+00,  -1.65997330e+00,\n",
       "         1.91922454e+00,  -1.51266637e+00,  -1.10695186e+00,\n",
       "         6.60197163e-01,  -9.87295403e-01,  -4.06000927e-01,\n",
       "        -1.85248291e-01,  -1.53731092e-01,   6.48680207e-01,\n",
       "        -3.39935826e-01,   1.04954573e+00,  -2.75326732e-01,\n",
       "        -9.82263640e-01,  -5.17046532e-01,   2.76304985e-02,\n",
       "        -1.31074459e+00,   1.58789691e-01,   7.46507273e-02,\n",
       "         2.84956293e-01,  -2.79865284e-01,  -5.75195849e-01,\n",
       "        -9.43513264e-02,   3.03547053e-01,   1.40896273e-01,\n",
       "         3.44998164e-01,  -3.67589334e-01,   8.35093665e-01,\n",
       "         2.49559401e-02,  -2.15276280e-01,   4.28869936e-02,\n",
       "         3.12906366e-02,   1.03448141e+00,   8.23828606e-02,\n",
       "        -3.68502077e-01,  -6.09731706e-01,  -3.24151165e-01,\n",
       "        -7.69594836e-01,   6.35811299e-01,  -6.32122861e-01,\n",
       "        -6.09723215e-01,   5.16080706e-01,   1.62685828e-01,\n",
       "         6.07457343e-01,  -5.88278399e-01,   2.79749809e-01,\n",
       "        -1.75609453e-01])"
      ]
     },
     "execution_count": 66,
     "metadata": {},
     "output_type": "execute_result"
    }
   ],
   "source": [
    "X[0]"
   ]
  },
  {
   "cell_type": "code",
   "execution_count": 67,
   "metadata": {
    "collapsed": false
   },
   "outputs": [
    {
     "name": "stdout",
     "output_type": "stream",
     "text": [
      "Label H01B has 844\n",
      "Label H01C has 165\n",
      "Label H01F has 713\n",
      "Label H01G has 163\n",
      "Label H01H has 1842\n",
      "Label H01J has 379\n",
      "Label H01K has 90\n",
      "Label H01L has 926\n",
      "Label H01M has 1377\n",
      "Label H01P has 153\n",
      "Label H01Q has 1038\n",
      "Label H01R has 2471\n",
      "Label H01S has 126\n",
      "Label H01T has 280\n",
      "Label H02B has 476\n",
      "Label H02C has 1\n",
      "Label H02G has 1330\n",
      "Label H02H has 649\n",
      "Label H02J has 955\n",
      "Label H02K has 1747\n",
      "Label H02M has 483\n",
      "Label H02N has 269\n",
      "Label H02P has 676\n",
      "Label H02R has 1\n",
      "Label H02S has 9\n",
      "Label H02V has 1\n",
      "Label H03B has 51\n",
      "Label H03C has 29\n",
      "Label H03D has 88\n",
      "Label H03F has 208\n",
      "Label H03G has 104\n",
      "Label H03H has 126\n",
      "Label H03J has 119\n",
      "Label H03K has 300\n",
      "Label H03L has 96\n",
      "Label H03M has 461\n",
      "Label H04B has 3587\n",
      "Label H04D has 1\n",
      "Label H04G has 1\n",
      "Label H04H has 253\n",
      "Label H04J has 836\n",
      "Label H04K has 122\n",
      "Label H04L has 4652\n",
      "Label H04M has 2556\n",
      "Label H04N has 3214\n",
      "Label H04Q has 4267\n",
      "Label H04R has 577\n",
      "Label H04S has 72\n",
      "Label H04W has 663\n",
      "Label H05B has 1666\n",
      "Label H05C has 58\n",
      "Label H05F has 37\n",
      "Label H05G has 29\n",
      "Label H05H has 95\n",
      "Label H05K has 1033\n",
      "Label H61C has 1\n",
      "Label H99Z has 2\n"
     ]
    }
   ],
   "source": [
    "# distribution over dataset\n",
    "for i in range(len(y[0])):\n",
    "        print('Label '+str(mlb.classes_[i])+ ' has '+ str(np.count_nonzero(y[:, i] == 1))) \n",
    "    "
   ]
  },
  {
   "cell_type": "code",
   "execution_count": 68,
   "metadata": {
    "collapsed": false
   },
   "outputs": [
    {
     "data": {
      "text/plain": [
       "array(['H01B', 'H01C', 'H01F', 'H01G', 'H01H', 'H01J', 'H01K', 'H01L',\n",
       "       'H01M', 'H01P', 'H01Q', 'H01R', 'H01S', 'H01T', 'H02B', 'H02C',\n",
       "       'H02G', 'H02H', 'H02J', 'H02K', 'H02M', 'H02N', 'H02P', 'H02R',\n",
       "       'H02S', 'H02V', 'H03B', 'H03C', 'H03D', 'H03F', 'H03G', 'H03H',\n",
       "       'H03J', 'H03K', 'H03L', 'H03M', 'H04B', 'H04D', 'H04G', 'H04H',\n",
       "       'H04J', 'H04K', 'H04L', 'H04M', 'H04N', 'H04Q', 'H04R', 'H04S',\n",
       "       'H04W', 'H05B', 'H05C', 'H05F', 'H05G', 'H05H', 'H05K', 'H61C',\n",
       "       'H99Z'], dtype=object)"
      ]
     },
     "execution_count": 68,
     "metadata": {},
     "output_type": "execute_result"
    }
   ],
   "source": [
    "# list with classes\n",
    "mlb.classes_"
   ]
  },
  {
   "cell_type": "code",
   "execution_count": 91,
   "metadata": {
    "collapsed": false
   },
   "outputs": [
    {
     "name": "stdout",
     "output_type": "stream",
     "text": [
      "Calculado ... 100.00%. Tempo execução: 5.0 horas, 13.0 minutos. Tempo restante estimado: 1.0 minutos, 28.0 segundos"
     ]
    }
   ],
   "source": [
    "def display_time(seconds, granularity=2):\n",
    "    result = []\n",
    "    intervals = (\n",
    "    ('semanas', 604800),  # 60 * 60 * 24 * 7\n",
    "    ('dias', 86400),    # 60 * 60 * 24\n",
    "    ('horas', 3600),    # 60 * 60\n",
    "    ('minutos', 60),\n",
    "    ('segundos', 1),\n",
    "    )\n",
    "\n",
    "    for name, count in intervals:\n",
    "        value = seconds // count\n",
    "        if value:\n",
    "            seconds -= value * count\n",
    "            if value == 1:\n",
    "                name = name.rstrip('s')\n",
    "            result.append(\"{} {}\".format(value, name))\n",
    "    return ', '.join(result[:granularity])\n",
    "\n",
    "import time\n",
    "import sys\n",
    "\n",
    "from sklearn.model_selection import KFold\n",
    "from sklearn.ensemble import RandomForestClassifier\n",
    "from sklearn.metrics import hamming_loss\n",
    "from sklearn.metrics import accuracy_score\n",
    "from sklearn.metrics import jaccard_similarity_score\n",
    "\n",
    "hamming_loss_list = []\n",
    "accuracy_score_list = []\n",
    "jaccard_similarity_score_list = []\n",
    "\n",
    "total_tasks = 10\n",
    "tasks_count = 0\n",
    "last_time = 0\n",
    "start_time = time.time()\n",
    "    \n",
    "skf = KFold(n_splits = 10, shuffle=True)\n",
    "for train, test in skf.split(X, y):\n",
    "    X_train, X_test, y_train, y_test = X[train], X[test], y[train], y[test]\n",
    "    classifier = RandomForestClassifier(n_estimators = 100, criterion = 'entropy')\n",
    "    classifier.fit(X_train, y_train)\n",
    "    # Predicting the Test set results\n",
    "    y_pred = classifier.predict(X_test)\n",
    "    hamming_loss_list.append(hamming_loss(y_test, y_pred))\n",
    "    accuracy_score_list.append(accuracy_score(y_test, y_pred))\n",
    "    jaccard_similarity_score_list.append(jaccard_similarity_score(y_test, y_pred))\n",
    "    #for i in range(len(y_test[0])):\n",
    "        #print('Label '+ str(mlb.classes_[i]) + ' tem '+ str(np.count_nonzero(y_test[:, i] == 1)))\n",
    "    tasks_count += 1\n",
    "    last_time = time.time()\n",
    "    exec_time = last_time - start_time\n",
    "    remaining_time = (total_tasks - tasks_count) * (exec_time) / tasks_count\n",
    "    sys.stdout.write(\"\\rCalculado ... %.2f%%. Tempo execução: %s. Tempo restante estimado: %s\" % (((100.0 * tasks_count / total_tasks)), display_time(last_time - start_time), display_time(remaining_time)))\n",
    "    sys.stdout.flush()"
   ]
  },
  {
   "cell_type": "code",
   "execution_count": 92,
   "metadata": {
    "collapsed": false
   },
   "outputs": [
    {
     "name": "stdout",
     "output_type": "stream",
     "text": [
      "Calculado ... 100.00%. Tempo execução: 4.0 horas, 57.0 minutos. Tempo restante estimado: 9.0 minutos, 45.0 segundos"
     ]
    }
   ],
   "source": [
    "# Feature Scaling\n",
    "from sklearn.preprocessing import StandardScaler\n",
    "sc = StandardScaler()\n",
    "X = sc.fit_transform(X)\n",
    "\n",
    "hamming_loss_list_2 = []\n",
    "accuracy_score_list_2 = []\n",
    "jaccard_similarity_score_list_2 = []\n",
    "\n",
    "total_tasks = 10\n",
    "tasks_count = 0\n",
    "last_time = 0\n",
    "start_time = time.time()\n",
    "    \n",
    "skf = KFold(n_splits = 10, shuffle=True)\n",
    "for train, test in skf.split(X, y):\n",
    "    X_train, X_test, y_train, y_test = X[train], X[test], y[train], y[test]\n",
    "    classifier = RandomForestClassifier(n_estimators = 100, criterion = 'entropy')\n",
    "    classifier.fit(X_train, y_train)\n",
    "    # Predicting the Test set results\n",
    "    y_pred = classifier.predict(X_test)\n",
    "    hamming_loss_list_2.append(hamming_loss(y_test, y_pred))\n",
    "    accuracy_score_list_2.append(accuracy_score(y_test, y_pred))\n",
    "    jaccard_similarity_score_list_2.append(jaccard_similarity_score(y_test, y_pred))\n",
    "    #for i in range(len(y_test[0])):\n",
    "        #print('Label '+ str(mlb.classes_[i]) + ' tem '+ str(np.count_nonzero(y_test[:, i] == 1)))\n",
    "    tasks_count += 1\n",
    "    last_time = time.time()\n",
    "    exec_time = last_time - start_time\n",
    "    remaining_time = (total_tasks - tasks_count) * (exec_time) / tasks_count\n",
    "    sys.stdout.write(\"\\rCalculado ... %.2f%%. Tempo execução: %s. Tempo restante estimado: %s\" % (((100.0 * tasks_count / total_tasks)), display_time(last_time - start_time), display_time(remaining_time)))\n",
    "    sys.stdout.flush()"
   ]
  },
  {
   "cell_type": "code",
   "execution_count": 99,
   "metadata": {
    "collapsed": false
   },
   "outputs": [
    {
     "data": {
      "text/plain": [
       "[0.018272022058466588,\n",
       " 0.01812638957659783,\n",
       " 0.018315711803027213,\n",
       " 0.018213769065719084,\n",
       " 0.018466198700958263,\n",
       " 0.018378819211837007,\n",
       " 0.01836425596365013,\n",
       " 0.01830621391563603,\n",
       " 0.018558713417920668,\n",
       " 0.018077993211647995]"
      ]
     },
     "execution_count": 99,
     "metadata": {},
     "output_type": "execute_result"
    }
   ],
   "source": [
    "hamming_loss_list"
   ]
  },
  {
   "cell_type": "code",
   "execution_count": 100,
   "metadata": {
    "collapsed": false
   },
   "outputs": [
    {
     "data": {
      "text/plain": [
       "[0.018471053117020554,\n",
       " 0.018262313226342003,\n",
       " 0.018529306109768055,\n",
       " 0.018194351401469917,\n",
       " 0.018170079321158456,\n",
       " 0.018315711803027213,\n",
       " 0.01783997902892261,\n",
       " 0.01838876182984447,\n",
       " 0.018218810241768274,\n",
       " 0.018728665005996865]"
      ]
     },
     "execution_count": 100,
     "metadata": {},
     "output_type": "execute_result"
    }
   ],
   "source": [
    "hamming_loss_list_2"
   ]
  },
  {
   "cell_type": "code",
   "execution_count": 101,
   "metadata": {
    "collapsed": false
   },
   "outputs": [
    {
     "data": {
      "text/plain": [
       "[0.12672938572219147,\n",
       " 0.12534587714443829,\n",
       " 0.1314333148865523,\n",
       " 0.13558384061981185,\n",
       " 0.12396236856668512,\n",
       " 0.12257885998893193,\n",
       " 0.1261759822910902,\n",
       " 0.12565734846388044,\n",
       " 0.11680044284528093,\n",
       " 0.13063935787434267]"
      ]
     },
     "execution_count": 101,
     "metadata": {},
     "output_type": "execute_result"
    }
   ],
   "source": [
    "accuracy_score_list"
   ]
  },
  {
   "cell_type": "code",
   "execution_count": 102,
   "metadata": {
    "collapsed": false
   },
   "outputs": [
    {
     "data": {
      "text/plain": [
       "[0.12340896513558385,\n",
       " 0.12396236856668512,\n",
       " 0.12340896513558385,\n",
       " 0.12894299944659657,\n",
       " 0.1314333148865523,\n",
       " 0.11787493082457111,\n",
       " 0.13613724405091313,\n",
       " 0.13008580127318017,\n",
       " 0.12953224467201771,\n",
       " 0.11956822585109328]"
      ]
     },
     "execution_count": 102,
     "metadata": {},
     "output_type": "execute_result"
    }
   ],
   "source": [
    "accuracy_score_list_2"
   ]
  },
  {
   "cell_type": "code",
   "execution_count": null,
   "metadata": {
    "collapsed": true
   },
   "outputs": [],
   "source": [
    "jaccard_similarity_score_list_2"
   ]
  }
 ],
 "metadata": {
  "kernelspec": {
   "display_name": "Python 3",
   "language": "python",
   "name": "python3"
  },
  "language_info": {
   "codemirror_mode": {
    "name": "ipython",
    "version": 3
   },
   "file_extension": ".py",
   "mimetype": "text/x-python",
   "name": "python",
   "nbconvert_exporter": "python",
   "pygments_lexer": "ipython3",
   "version": "3.6.0"
  }
 },
 "nbformat": 4,
 "nbformat_minor": 2
}
