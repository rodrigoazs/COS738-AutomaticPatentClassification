{
 "cells": [
  {
   "cell_type": "code",
   "execution_count": 5,
   "metadata": {
    "collapsed": true
   },
   "outputs": [],
   "source": [
    "#!/usr/bin/env python3\n",
    "# -*- coding: latin-1 -*-\n",
    "\"\"\"\n",
    "Created on Mon Aug 14 22:14:55 2017\n",
    "@author: rodrigo\n",
    "\"\"\"\n",
    "\n",
    "# Importing the libraries\n",
    "import numpy as np\n",
    "import matplotlib.pyplot as plt\n",
    "import pandas as pd\n",
    "import random\n",
    "import re"
   ]
  },
  {
   "cell_type": "code",
   "execution_count": 6,
   "metadata": {
    "collapsed": false
   },
   "outputs": [],
   "source": [
    "# Importing the dataset\n",
    "# by a first class\n",
    "def get_dataset(first_class = 'H', max_N=0):\n",
    "    \n",
    "    id = 0\n",
    "    classes = {}\n",
    "    X = []\n",
    "    y = []\n",
    "    \n",
    "    with open('../GitHub/output/full.csv', 'r', encoding=\"latin-1\") as file:\n",
    "        i_N = 0\n",
    "        for line in file:\n",
    "            if max_N == 0 or i_N < max_N:\n",
    "                data = line.split('|')\n",
    "                if len(data) == 7:\n",
    "                    data_classes = data[1].split(',')\n",
    "                    cl_set = set()\n",
    "                    for cl in data_classes:\n",
    "                        c = cl.upper()\n",
    "                        c = c.replace(' ', '')\n",
    "                        a = re.search(r'([A-H])([0-9]{2})([A-Z])', c, re.M|re.I)\n",
    "                        try:\n",
    "                            if a.group(1) == first_class:\n",
    "                                cl_set.add(id)\n",
    "                                if (a.group(1) + a.group(2) + a.group(3)) not in classes:\n",
    "                                    classes[a.group(1) + a.group(2) + a.group(3)] = id\n",
    "                                    id += 1 \n",
    "                        except:\n",
    "                            pass\n",
    "                    if len(cl_set) > 0:\n",
    "                        X.append([data[2], data[3]])\n",
    "                        y.append(list(cl_set))\n",
    "                        i_N += 1\n",
    "    return [X, y, classes]\n"
   ]
  },
  {
   "cell_type": "code",
   "execution_count": 7,
   "metadata": {
    "collapsed": false
   },
   "outputs": [],
   "source": [
    "# index 0: title, summary\n",
    "# index 1: list of classes by id\n",
    "# index 2: classes by name and their respective ids\n",
    "dataset = get_dataset(first_class = 'H')"
   ]
  },
  {
   "cell_type": "code",
   "execution_count": 8,
   "metadata": {
    "collapsed": false
   },
   "outputs": [
    {
     "data": {
      "text/plain": [
       "[[\"Envolt'orio para m'aquinas el'etricas\",\n",
       "  \"'E proposto em envolt'orio para m'aquinas el'etricas, sobretudo dispositivos de arranque de motores de combust~ao interna, o qual serve para a prote$c~ao das m'aquinas el'etricas contra a penetra$c~ao de sujidade e umidade, bem como contra corros~ao. O envolt'orio consiste de pelo menos uma folheta (7) que est'a empurrada ou puxada sobre as pe$cas (2 a 5) da m'aquina el'etrica a serem envolvidas, pode estar colada sobre as pe$cas (2 a 5) e est'a fixamente contra'ida sobre as pe$cas envoltas (2 a 5). Em compara$c~ao com os convencionais revestimentos de verniz, o envolt'orio forma uma prote$c~ao simples, mais favor'avel ambientalmente e mais apropriada para a fabrica$c~ao econ^omica em grandes quantidades.\"],\n",
       " [\"Aperfei$coamento em interruptor de luz temporizado anal'ogico/digital\",\n",
       "  \"A presente patente se refere a um interruptor temporizado em que 'e poss'ivel optar pelo acionamento digital ou anal'ogico devido ao mesmo ser dotado de uma tecla convencional e um sensor de toque, sendo que o segundo ao ser acionado mant'em a l^ampada acesa com meia pot^encia por quatro minutos. Consiste o conjunto num espelho (1) e um suporte (2) duplo, id^enticos ao convencional sendo no lugar de uma das teclas fixada uma chapa met'alica (6) contendo um led (7) de sinaliza$c~ao e atr'as do suporte (2) localiza-se uma tampa (13) acondicionando a placa (8) do circuito eletr^onico.\"],\n",
       " [\"Tomada el'etrica com dispositivo interruptor e de prote$c~ao\",\n",
       "  '\"TOMADA EL\\'ETRICA COM DISPOSITIVO INTERRUPTOR E DE PROTE$C~AO\", do tipo que compreende um corpo-partido (1) com uma parte constituindo uma base (2) e a outra configurando uma tampa (3), dita caixa (1), tendo terminais internos para liga$c~ao el\\'etrica (4), aos quais interligam-se as extremidades desencapadas de um fio el\\'etrico qualquer, e para comportar a extremidade interna dos pinos conectores (5), cuja maior parte prolonga-se para fora da caixa (1), a tampa (3) contando ainda com uma janela (6), receptora de um interruptor el\\'etrico (7), eletricamente intercalado entre um dos terminais de liga$c~ao (4) e um dos pinos (5), de modo a interromper o fornecimento de energia el\\'etrica; enquanto que o outro pino (5) \\'e ligado diretamente ao outro terminal (4), com o interruptor (7) contando com um dispositivo de prote$c~ao termo-magn\\'etico, sendo para tal constitu\\'ido de uma haste (8), com uma das extremidades projetando-se para fora do corpo (1) e recebendo um bot~ao (9); enquanto que a extremidade oposta com um contato inferior (10), em prata ou outro material adequado qualquer, sendo ainda dita haste (8) axialmente flutuante em correspond^encia ao deslocamento de um fio ou fita termo magn\\'etica (11) que interliga aquela extremidade inferior da haste a um dos pinos (5), perfazendo um percurso curvil\\'ineo, dito interruptor (7), sendo ainda dotado de um estojo retentor (12), tendo um conjunto lateral de esfera molejada (13), interferente em dois rebaixos (14), posicionados lateralmente na haste (1), cada qual correspondente a uma das duas posi$c~oes poss\\'iveis para a haste (1).'],\n",
       " [\"Equipamento para o desengate de um conector el'etrico\",\n",
       "  \"O equipamento 'e capaz de desengatar um bloco de conex~ao f^emea (4) de um bloco de conex~ao macho (1) de um conector, em que este 'ultimo bloco 'e provido ao menos de um par de bra$cos (2) deform'aveis elasticamente, cada um dos quais apresenta um gancho de extremidade (3); nos conectores deste tipo o bloco de conex~ao f^emea 'e provido de ao menos um ressalto (5) que apresenta uma superf'icie de trava (9) contra a qual se engatam por press~ao os ditos ganchos; o equipamento compreende substancialmente uma lam'inula (14) provida de um par de aletas (15), cada uma das quais apresenta uma extremidade (16) conformada em cunha capaz de se inserir entre um dos bra$cos e o bloco de conex~ao f^emea e ao menos um dente (17) saliente da superf'icie inferior (18) da lam'inula e que 'e capaz de se inserir em uma adequada canaleta (10) formada no bloco de conex~ao f^emea.\"],\n",
       " ['Disposi$c~ao introduzida em pedestal para microfone',\n",
       "  '\"DISPOSI$C~AO INTRODUZIDA EM PEDESTAL PARA MICROFONE\", de um inovador modelo de pedestal (1) para microfone, dotado de tubo telesc\\'opico autom\\'atico, cujo deslizamento da extens~ao (4) \\'e feito atrav\\'es de leve press~ao no bot~ao (11) externo, que permite a movimenta$c~ao do tubo (5) guia, interno, o qual muda a posi$c~ao de arruela trava (7) para a horizontal, deslizando por haste (6) de se$c~ao quadrada, permitindo a suave e r\\'apida mudan$ca de altura do pedestal.']]"
      ]
     },
     "execution_count": 8,
     "metadata": {},
     "output_type": "execute_result"
    }
   ],
   "source": [
    "# example\n",
    "dataset[0][0:5]"
   ]
  },
  {
   "cell_type": "code",
   "execution_count": 9,
   "metadata": {
    "collapsed": true
   },
   "outputs": [],
   "source": [
    "# Binarize the labels\n",
    "# 0 if it is not part of the class\n",
    "# 1 otherwise\n",
    "X = dataset[0]\n",
    "y = dataset[1]\n",
    "\n",
    "from sklearn.preprocessing import MultiLabelBinarizer\n",
    "y = MultiLabelBinarizer().fit_transform(y)"
   ]
  },
  {
   "cell_type": "code",
   "execution_count": 10,
   "metadata": {
    "collapsed": false
   },
   "outputs": [],
   "source": [
    "# Cleaning the texts\n",
    "# remove everything but letters\n",
    "import re\n",
    "import nltk\n",
    "from nltk.stem.snowball import SnowballStemmer\n",
    "corpus_title = []\n",
    "corpus_summary = []\n",
    "stemmer = SnowballStemmer('portuguese')\n",
    "for i in range(len(X)):\n",
    "    title = X[i][0].split()\n",
    "    summary = X[i][1].split()\n",
    "    for j in range(len(title)):\n",
    "        title[j] = re.sub('[^a-zA-Z]', '', title[j])\n",
    "    for j in range(len(summary)):\n",
    "        summary[j] = re.sub('[^a-zA-Z]', '', summary[j])\n",
    "    title = [stemmer.stem(st) for st in title]\n",
    "    summary = [stemmer.stem(st) for st in summary]\n",
    "    title = ' '.join(title)\n",
    "    summary = ' '.join(summary)\n",
    "    corpus_title.append(title)\n",
    "    corpus_summary.append(summary)"
   ]
  },
  {
   "cell_type": "code",
   "execution_count": 11,
   "metadata": {
    "collapsed": false
   },
   "outputs": [
    {
     "name": "stdout",
     "output_type": "stream",
     "text": [
      "Size of X: 36137\n"
     ]
    }
   ],
   "source": [
    "print('Size of X: '+str(len(X)))"
   ]
  },
  {
   "cell_type": "code",
   "execution_count": 12,
   "metadata": {
    "collapsed": false
   },
   "outputs": [
    {
     "data": {
      "text/plain": [
       "'e propost em envoltori par maquin eletr sobretud disposit de arranqu de motor de combusta intern o qual serv par a proteca das maquin eletr contr a penetraca de sujidad e umidad bem com contr corrosa o envoltori cons de pel men uma folhet  que esta empurr ou pux sobr as pec  a  da maquin eletr a ser envolv pod estar col sobr as pec  a  e esta fix contra sobr as pec envolt  a  em comparaca com os convencion revest de verniz o envoltori form uma proteca simpl mais favoravel ambiental e mais apropri par a fabricaca econom em grand quantidad'"
      ]
     },
     "execution_count": 12,
     "metadata": {},
     "output_type": "execute_result"
    }
   ],
   "source": [
    "corpus_summary[0]"
   ]
  },
  {
   "cell_type": "code",
   "execution_count": 13,
   "metadata": {
    "collapsed": false
   },
   "outputs": [
    {
     "data": {
      "text/plain": [
       "'a present patent se refer a um interruptor temporiz em que e possivel optar pel acion digital ou analog dev ao mesm ser dot de uma tecl convencional e um sensor de toqu send que o segund ao ser acion mant a lamp aces com mei potenc por quatr minut cons o conjunt num espelh  e um suport  dupl ident ao convencional send no lug de uma das tecl fix uma chap metal  cont um led  de sinalizaca e atras do suport  localizas uma tamp  acondicion a plac  do circuit eletron'"
      ]
     },
     "execution_count": 13,
     "metadata": {},
     "output_type": "execute_result"
    }
   ],
   "source": [
    "corpus_summary[1]"
   ]
  },
  {
   "cell_type": "code",
   "execution_count": 14,
   "metadata": {
    "collapsed": false
   },
   "outputs": [
    {
     "data": {
      "text/plain": [
       "'envoltori par maquin eletr'"
      ]
     },
     "execution_count": 14,
     "metadata": {},
     "output_type": "execute_result"
    }
   ],
   "source": [
    "corpus_title[0]"
   ]
  },
  {
   "cell_type": "code",
   "execution_count": 15,
   "metadata": {
    "collapsed": false
   },
   "outputs": [
    {
     "data": {
      "text/plain": [
       "'aperfeico em interruptor de luz temporiz analogicodigital'"
      ]
     },
     "execution_count": 15,
     "metadata": {},
     "output_type": "execute_result"
    }
   ],
   "source": [
    "corpus_title[1]"
   ]
  },
  {
   "cell_type": "code",
   "execution_count": 16,
   "metadata": {
    "collapsed": true
   },
   "outputs": [],
   "source": [
    "# Vectorize titles and summary separately\n",
    "from sklearn.feature_extraction.text import CountVectorizer\n",
    "title_cv = CountVectorizer(max_features = None, ngram_range=(1,1))\n",
    "X_title = title_cv.fit_transform(corpus_title)\n",
    "summary_cv = CountVectorizer(max_features = None, ngram_range=(1,1))\n",
    "X_summary = summary_cv.fit_transform(corpus_summary)"
   ]
  },
  {
   "cell_type": "code",
   "execution_count": 17,
   "metadata": {
    "collapsed": false
   },
   "outputs": [],
   "source": [
    "# Apply SVD transformation n_components=50 separately\n",
    "from sklearn.decomposition import TruncatedSVD\n",
    "svd_title = TruncatedSVD(n_components=50)\n",
    "X_title = svd_title.fit_transform(X_title)\n",
    "\n",
    "from sklearn.decomposition import TruncatedSVD\n",
    "svd_summary = TruncatedSVD(n_components=50)\n",
    "X_summary = svd_summary.fit_transform(X_summary)"
   ]
  },
  {
   "cell_type": "code",
   "execution_count": 18,
   "metadata": {
    "collapsed": true
   },
   "outputs": [],
   "source": [
    "# Concatenate title and summary svd representation\n",
    "X = np.concatenate((X_title, X_summary), axis=1)"
   ]
  },
  {
   "cell_type": "code",
   "execution_count": 19,
   "metadata": {
    "collapsed": false
   },
   "outputs": [
    {
     "data": {
      "text/plain": [
       "array([  2.32604800e-01,   6.73060106e-01,  -5.88471086e-01,\n",
       "         6.40892210e-02,  -2.30426279e-01,   4.85240270e-02,\n",
       "         1.30155553e-01,   4.11557240e-02,   5.45376530e-02,\n",
       "         2.14415312e-02,   1.15051873e-01,  -1.08855159e-01,\n",
       "        -1.62674444e-01,  -3.98076888e-02,  -5.60035074e-02,\n",
       "         3.26941379e-03,  -4.54804431e-02,  -4.37540331e-02,\n",
       "        -2.63705175e-02,   1.47265490e-02,   1.62226405e-02,\n",
       "        -3.10923604e-02,   2.24983101e-04,   5.11539553e-03,\n",
       "        -1.36211923e-04,   2.08618170e-02,   1.36620175e-02,\n",
       "         5.61329901e-03,  -6.46851080e-03,   2.35321138e-03,\n",
       "        -4.27248959e-02,  -2.10998952e-02,  -2.36182676e-02,\n",
       "         2.35304894e-03,  -4.22079094e-03,   1.74575673e-02,\n",
       "        -3.13885984e-03,  -2.88541954e-02,   9.46968165e-03,\n",
       "         8.19532525e-03,   9.61488392e-03,  -3.51110897e-03,\n",
       "        -1.95592017e-02,   8.41152202e-03,  -2.98891634e-02,\n",
       "         4.16890677e-03,  -1.24494878e-02,  -3.38033194e-02,\n",
       "         2.59196568e-03,  -1.07385084e-03,   7.33670768e+00,\n",
       "         1.11908045e+00,   2.29162488e+00,  -1.65996984e+00,\n",
       "         1.91922196e+00,  -1.51267489e+00,  -1.10695923e+00,\n",
       "         6.60283337e-01,  -9.87309816e-01,  -4.05856969e-01,\n",
       "        -1.85424108e-01,  -1.53034643e-01,   6.49676346e-01,\n",
       "        -3.39285727e-01,   1.04892299e+00,  -2.75911662e-01,\n",
       "        -9.85245159e-01,  -5.17914344e-01,   2.90179725e-02,\n",
       "        -1.31042346e+00,   1.59276565e-01,   7.36046860e-02,\n",
       "         2.93405202e-01,  -2.87418508e-01,  -5.71195436e-01,\n",
       "        -8.96535006e-02,   3.19997388e-01,   1.28892584e-01,\n",
       "        -3.83340905e-01,  -3.46692823e-01,   8.09127394e-01,\n",
       "         1.09689404e-01,  -3.23288738e-01,   2.02924382e-02,\n",
       "         2.37007590e-02,   1.03687423e+00,  -8.53302255e-02,\n",
       "        -3.59145538e-01,  -6.02998859e-01,  -6.01545660e-01,\n",
       "         3.07740431e-01,   7.58619015e-01,  -6.84983553e-01,\n",
       "        -1.92837931e-01,   4.28816331e-01,   1.69636837e-01,\n",
       "         7.84524870e-01,  -4.35100169e-01,   6.42258587e-01,\n",
       "         7.65685284e-02])"
      ]
     },
     "execution_count": 19,
     "metadata": {},
     "output_type": "execute_result"
    }
   ],
   "source": [
    "X[0]"
   ]
  },
  {
   "cell_type": "code",
   "execution_count": null,
   "metadata": {
    "collapsed": true
   },
   "outputs": [],
   "source": []
  },
  {
   "cell_type": "code",
   "execution_count": null,
   "metadata": {
    "collapsed": true
   },
   "outputs": [],
   "source": []
  }
 ],
 "metadata": {
  "kernelspec": {
   "display_name": "Python 3",
   "language": "python",
   "name": "python3"
  },
  "language_info": {
   "codemirror_mode": {
    "name": "ipython",
    "version": 3
   },
   "file_extension": ".py",
   "mimetype": "text/x-python",
   "name": "python",
   "nbconvert_exporter": "python",
   "pygments_lexer": "ipython3",
   "version": "3.6.0"
  }
 },
 "nbformat": 4,
 "nbformat_minor": 2
}
