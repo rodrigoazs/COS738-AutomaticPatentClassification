{
 "cells": [
  {
   "cell_type": "code",
   "execution_count": 8,
   "metadata": {
    "collapsed": true
   },
   "outputs": [],
   "source": [
    "from nltk.stem.snowball import SnowballStemmer"
   ]
  },
  {
   "cell_type": "code",
   "execution_count": 3,
   "metadata": {
    "collapsed": true
   },
   "outputs": [],
   "source": [
    "X = [[\"Envolt'orio para m'aquinas el'etricas\",\n",
    "  \"'E proposto em envolt'orio para m'aquinas el'etricas, sobretudo dispositivos de arranque de motores de combust~ao interna, o qual serve para a prote$c~ao das m'aquinas el'etricas contra a penetra$c~ao de sujidade e umidade, bem como contra corros~ao. O envolt'orio consiste de pelo menos uma folheta (7) que est'a empurrada ou puxada sobre as pe$cas (2 a 5) da m'aquina el'etrica a serem envolvidas, pode estar colada sobre as pe$cas (2 a 5) e est'a fixamente contra'ida sobre as pe$cas envoltas (2 a 5). Em compara$c~ao com os convencionais revestimentos de verniz, o envolt'orio forma uma prote$c~ao simples, mais favor'avel ambientalmente e mais apropriada para a fabrica$c~ao econ^omica em grandes quantidades.\"],\n",
    " [\"Aperfei$coamento em interruptor de luz temporizado anal'ogico/digital\",\n",
    "  \"A presente patente se refere a um interruptor temporizado em que 'e poss'ivel optar pelo acionamento digital ou anal'ogico devido ao mesmo ser dotado de uma tecla convencional e um sensor de toque, sendo que o segundo ao ser acionado mant'em a l^ampada acesa com meia pot^encia por quatro minutos. Consiste o conjunto num espelho (1) e um suporte (2) duplo, id^enticos ao convencional sendo no lugar de uma das teclas fixada uma chapa met'alica (6) contendo um led (7) de sinaliza$c~ao e atr'as do suporte (2) localiza-se uma tampa (13) acondicionando a placa (8) do circuito eletr^onico.\"],\n",
    " [\"Tomada el'etrica com dispositivo interruptor e de prote$c~ao\",\n",
    "  '\"TOMADA EL\\'ETRICA COM DISPOSITIVO INTERRUPTOR E DE PROTE$C~AO\", do tipo que compreende um corpo-partido (1) com uma parte constituindo uma base (2) e a outra configurando uma tampa (3), dita caixa (1), tendo terminais internos para liga$c~ao el\\'etrica (4), aos quais interligam-se as extremidades desencapadas de um fio el\\'etrico qualquer, e para comportar a extremidade interna dos pinos conectores (5), cuja maior parte prolonga-se para fora da caixa (1), a tampa (3) contando ainda com uma janela (6), receptora de um interruptor el\\'etrico (7), eletricamente intercalado entre um dos terminais de liga$c~ao (4) e um dos pinos (5), de modo a interromper o fornecimento de energia el\\'etrica; enquanto que o outro pino (5) \\'e ligado diretamente ao outro terminal (4), com o interruptor (7) contando com um dispositivo de prote$c~ao termo-magn\\'etico, sendo para tal constitu\\'ido de uma haste (8), com uma das extremidades projetando-se para fora do corpo (1) e recebendo um bot~ao (9); enquanto que a extremidade oposta com um contato inferior (10), em prata ou outro material adequado qualquer, sendo ainda dita haste (8) axialmente flutuante em correspond^encia ao deslocamento de um fio ou fita termo magn\\'etica (11) que interliga aquela extremidade inferior da haste a um dos pinos (5), perfazendo um percurso curvil\\'ineo, dito interruptor (7), sendo ainda dotado de um estojo retentor (12), tendo um conjunto lateral de esfera molejada (13), interferente em dois rebaixos (14), posicionados lateralmente na haste (1), cada qual correspondente a uma das duas posi$c~oes poss\\'iveis para a haste (1).'],\n",
    " [\"Equipamento para o desengate de um conector el'etrico\",\n",
    "  \"O equipamento 'e capaz de desengatar um bloco de conex~ao f^emea (4) de um bloco de conex~ao macho (1) de um conector, em que este 'ultimo bloco 'e provido ao menos de um par de bra$cos (2) deform'aveis elasticamente, cada um dos quais apresenta um gancho de extremidade (3); nos conectores deste tipo o bloco de conex~ao f^emea 'e provido de ao menos um ressalto (5) que apresenta uma superf'icie de trava (9) contra a qual se engatam por press~ao os ditos ganchos; o equipamento compreende substancialmente uma lam'inula (14) provida de um par de aletas (15), cada uma das quais apresenta uma extremidade (16) conformada em cunha capaz de se inserir entre um dos bra$cos e o bloco de conex~ao f^emea e ao menos um dente (17) saliente da superf'icie inferior (18) da lam'inula e que 'e capaz de se inserir em uma adequada canaleta (10) formada no bloco de conex~ao f^emea.\"],\n",
    " ['Disposi$c~ao introduzida em pedestal para microfone',\n",
    "  '\"DISPOSI$C~AO INTRODUZIDA EM PEDESTAL PARA MICROFONE\", de um inovador modelo de pedestal (1) para microfone, dotado de tubo telesc\\'opico autom\\'atico, cujo deslizamento da extens~ao (4) \\'e feito atrav\\'es de leve press~ao no bot~ao (11) externo, que permite a movimenta$c~ao do tubo (5) guia, interno, o qual muda a posi$c~ao de arruela trava (7) para a horizontal, deslizando por haste (6) de se$c~ao quadrada, permitindo a suave e r\\'apida mudan$ca de altura do pedestal.']]"
   ]
  },
  {
   "cell_type": "code",
   "execution_count": 14,
   "metadata": {
    "collapsed": true
   },
   "outputs": [],
   "source": [
    "# Cleaning the texts\n",
    "# remove everything but letters\n",
    "import re\n",
    "import nltk\n",
    "corpus_title = []\n",
    "corpus_summary = []\n",
    "stemmer = SnowballStemmer('portuguese')\n",
    "for i in range(len(X)):\n",
    "    title = X[i][0].split()\n",
    "    summary = X[i][1].split()\n",
    "    for j in range(len(title)):\n",
    "        title[j] = re.sub('[^a-zA-Z]', '', title[j])\n",
    "    for j in range(len(summary)):\n",
    "        summary[j] = re.sub('[^a-zA-Z]', '', summary[j])\n",
    "    title = [stemmer.stem(st) for st in title]\n",
    "    summary = [stemmer.stem(st) for st in summary]\n",
    "    title = ' '.join(title)\n",
    "    summary = ' '.join(summary)\n",
    "    corpus_title.append(title)\n",
    "    corpus_summary.append(summary)"
   ]
  },
  {
   "cell_type": "code",
   "execution_count": 15,
   "metadata": {
    "collapsed": false
   },
   "outputs": [
    {
     "data": {
      "text/plain": [
       "['envoltori par maquin eletr',\n",
       " 'aperfeico em interruptor de luz temporiz analogicodigital',\n",
       " 'tom eletr com disposit interruptor e de proteca',\n",
       " 'equip par o desengat de um conector eletr',\n",
       " 'disposica introduz em pedestal par microfon']"
      ]
     },
     "execution_count": 15,
     "metadata": {},
     "output_type": "execute_result"
    }
   ],
   "source": [
    "corpus_title"
   ]
  },
  {
   "cell_type": "code",
   "execution_count": 16,
   "metadata": {
    "collapsed": false
   },
   "outputs": [
    {
     "data": {
      "text/plain": [
       "['e propost em envoltori par maquin eletr sobretud disposit de arranqu de motor de combusta intern o qual serv par a proteca das maquin eletr contr a penetraca de sujidad e umidad bem com contr corrosa o envoltori cons de pel men uma folhet  que esta empurr ou pux sobr as pec  a  da maquin eletr a ser envolv pod estar col sobr as pec  a  e esta fix contra sobr as pec envolt  a  em comparaca com os convencion revest de verniz o envoltori form uma proteca simpl mais favoravel ambiental e mais apropri par a fabricaca econom em grand quantidad',\n",
       " 'a present patent se refer a um interruptor temporiz em que e possivel optar pel acion digital ou analog dev ao mesm ser dot de uma tecl convencional e um sensor de toqu send que o segund ao ser acion mant a lamp aces com mei potenc por quatr minut cons o conjunt num espelh  e um suport  dupl ident ao convencional send no lug de uma das tecl fix uma chap metal  cont um led  de sinalizaca e atras do suport  localizas uma tamp  acondicion a plac  do circuit eletron',\n",
       " 'tom eletr com disposit interruptor e de proteca do tip que compreend um corpopart  com uma part constitu uma bas  e a outr configur uma tamp  dit caix  tend termin intern par ligaca eletr  aos qua interligams as extrem desencap de um fio eletr qualqu e par comport a extrem intern dos pin conector  cuj maior part prolongas par for da caix  a tamp  cont aind com uma janel  receptor de um interruptor eletr  eletr intercal entre um dos termin de ligaca  e um dos pin  de mod a interromp o fornec de energ eletr enquant que o outr pin  e lig diret ao outr terminal  com o interruptor  cont com um disposit de proteca termomagnet send par tal constitu de uma hast  com uma das extrem projetandos par for do corp  e receb um bota  enquant que a extrem opost com um contat inferior  em prat ou outr material adequ qualqu send aind dit hast  axial flutuant em correspondenc ao desloc de um fio ou fit term magnet  que interlig aquel extrem inferior da hast a um dos pin  perfaz um percurs curvilin dit interruptor  send aind dot de um estoj retentor  tend um conjunt lateral de esfer molej  interferent em dois rebaix  posicion lateral na hast  cad qual correspondent a uma das duas posico possiv par a hast ',\n",
       " 'o equip e capaz de desengat um bloc de conexa fem  de um bloc de conexa mach  de um conector em que este ultim bloc e prov ao men de um par de brac  deformav elast cad um dos qua apresent um ganch de extrem  nos conector dest tip o bloc de conexa fem e prov de ao men um ressalt  que apresent uma superfic de trav  contr a qual se engat por pressa os dit ganch o equip compreend substancial uma laminul  prov de um par de alet  cad uma das qua apresent uma extrem  conform em cunh capaz de se inser entre um dos brac e o bloc de conexa fem e ao men um dent  salient da superfic inferior  da laminul e que e capaz de se inser em uma adequ canalet  form no bloc de conexa fem',\n",
       " 'disposica introduz em pedestal par microfon de um inov model de pedestal  par microfon dot de tub telescop automat cuj desliz da extensa  e feit atrav de lev pressa no bota  extern que permit a movimentaca do tub  gui intern o qual mud a posica de arruel trav  par a horizontal desliz por hast  de seca quadr permit a suav e rap mudanc de altur do pedestal']"
      ]
     },
     "execution_count": 16,
     "metadata": {},
     "output_type": "execute_result"
    }
   ],
   "source": [
    "corpus_summary"
   ]
  },
  {
   "cell_type": "code",
   "execution_count": null,
   "metadata": {
    "collapsed": true
   },
   "outputs": [],
   "source": []
  }
 ],
 "metadata": {
  "kernelspec": {
   "display_name": "Python 3",
   "language": "python",
   "name": "python3"
  },
  "language_info": {
   "codemirror_mode": {
    "name": "ipython",
    "version": 3
   },
   "file_extension": ".py",
   "mimetype": "text/x-python",
   "name": "python",
   "nbconvert_exporter": "python",
   "pygments_lexer": "ipython3",
   "version": "3.6.0"
  }
 },
 "nbformat": 4,
 "nbformat_minor": 2
}
