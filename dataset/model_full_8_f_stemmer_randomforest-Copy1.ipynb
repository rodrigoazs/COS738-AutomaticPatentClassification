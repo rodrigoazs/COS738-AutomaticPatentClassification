{
 "cells": [
  {
   "cell_type": "code",
   "execution_count": 1,
   "metadata": {
    "collapsed": true
   },
   "outputs": [],
   "source": [
    "# importing libraries\n",
    "import numpy as np\n",
    "import pandas as pd"
   ]
  },
  {
   "cell_type": "code",
   "execution_count": 2,
   "metadata": {
    "collapsed": false
   },
   "outputs": [],
   "source": [
    "# Importing the dataset\n",
    "dataset = pd.read_csv('full_8classes_f_no_stemmer.csv')\n",
    "X = dataset.iloc[:, 1:-1].values\n",
    "y = dataset.iloc[:, 3].values"
   ]
  },
  {
   "cell_type": "code",
   "execution_count": 3,
   "metadata": {
    "collapsed": false
   },
   "outputs": [
    {
     "data": {
      "text/plain": [
       "354382"
      ]
     },
     "execution_count": 3,
     "metadata": {},
     "output_type": "execute_result"
    }
   ],
   "source": [
    "len(X)"
   ]
  },
  {
   "cell_type": "code",
   "execution_count": 4,
   "metadata": {
    "collapsed": false
   },
   "outputs": [],
   "source": [
    "len(X)\n",
    "\n",
    "import matplotlib.pyplot as plt\n",
    "\n",
    "import itertools\n",
    "def plot_confusion_matrix(cm, classes,\n",
    "                          normalize=False,\n",
    "                          title='Confusion matrix',\n",
    "                          cmap=plt.cm.Greys):\n",
    "    \"\"\"\n",
    "    This function prints and plots the confusion matrix.\n",
    "    Normalization can be applied by setting `normalize=True`.\n",
    "    \"\"\"\n",
    "    plt.imshow(cm, interpolation='nearest', cmap=cmap)\n",
    "    plt.title(title)\n",
    "    plt.colorbar()\n",
    "    tick_marks = np.arange(len(classes))\n",
    "    plt.xticks(tick_marks, classes, rotation=45)\n",
    "    plt.yticks(tick_marks, classes)\n",
    "\n",
    "    if normalize:\n",
    "        cm = cm.astype('float') / cm.sum(axis=1)[:, np.newaxis]\n",
    "        print(\"Normalized confusion matrix\")\n",
    "    else:\n",
    "        print('Confusion matrix, without normalization')\n",
    "\n",
    "    print(cm)\n",
    "\n",
    "    thresh = cm.max() / 2.\n",
    "    for i, j in itertools.product(range(cm.shape[0]), range(cm.shape[1])):\n",
    "        plt.text(j, i, cm[i, j],\n",
    "                 horizontalalignment=\"center\",\n",
    "                 color=\"white\" if cm[i, j] > thresh else \"black\")\n",
    "\n",
    "    plt.tight_layout()\n",
    "    plt.ylabel('Classe verdadeira')\n",
    "    plt.xlabel('Classe prevista')"
   ]
  },
  {
   "cell_type": "code",
   "execution_count": 5,
   "metadata": {
    "collapsed": true
   },
   "outputs": [],
   "source": [
    "# fix empty values\n",
    "for i in range(len(X[:, 0])):\n",
    "    if type(X[i, 0]) is not str:\n",
    "        X[i, 0] = ''\n",
    "for i in range(len(X[:, 1])):\n",
    "    if type(X[i, 1]) is not str:\n",
    "        X[i, 1] = ''"
   ]
  },
  {
   "cell_type": "code",
   "execution_count": 6,
   "metadata": {
    "collapsed": true
   },
   "outputs": [],
   "source": [
    "# Stratified 10-fold cross-validation\n",
    "from sklearn.model_selection import StratifiedKFold\n",
    "from sklearn.feature_extraction.text import CountVectorizer\n",
    "from sklearn.decomposition import TruncatedSVD\n",
    "from sklearn.metrics import confusion_matrix\n",
    "from sklearn.metrics import accuracy_score\n",
    "\n",
    "from sklearn.ensemble import RandomForestClassifier\n",
    "\n",
    "accuracies = []\n",
    "precisions = [[], [], [], [], [], [], [], []]"
   ]
  },
  {
   "cell_type": "code",
   "execution_count": null,
   "metadata": {
    "collapsed": false
   },
   "outputs": [],
   "source": [
    "# split strafified kfold\n",
    "skf = StratifiedKFold(n_splits=10, shuffle=True)\n",
    "splits = skf.split(X, y)"
   ]
  },
  {
   "cell_type": "code",
   "execution_count": null,
   "metadata": {
    "collapsed": false
   },
   "outputs": [],
   "source": [
    "for train_index, test_index in splits:\n",
    "    X_train, X_test = X[train_index], X[test_index]\n",
    "    y_train, y_test = y[train_index], y[test_index]\n",
    "    \n",
    "    print('X_train size: ' + str(len(X_train)))\n",
    "    print('X_test size: ' + str(len(X_test)))\n",
    "    \n",
    "    # Vectorize titles and summary separately\n",
    "    \n",
    "    title_cv = CountVectorizer(max_features = None, ngram_range=(1,3))\n",
    "    X_title = title_cv.fit_transform(X_train[:, 0])\n",
    "    summary_cv = CountVectorizer(max_features = None, ngram_range=(1,3))\n",
    "    X_summary = summary_cv.fit_transform(X_train[:, 1])\n",
    "    \n",
    "    # Apply SVD transformation n_components=20 and 100 separately\n",
    "    svd_title = TruncatedSVD(n_components=200)\n",
    "    X_title = svd_title.fit_transform(X_title)\n",
    "    svd_summary = TruncatedSVD(n_components=800)\n",
    "    X_summary = svd_summary.fit_transform(X_summary)\n",
    "    \n",
    "    # Concatenate title and summary svd representation\n",
    "    X_train = np.concatenate((X_title, X_summary), axis=1)\n",
    "    \n",
    "    # train the model\n",
    "    classifier = RandomForestClassifier(n_estimators = 300, criterion = 'entropy', n_jobs=-1, verbose=2)\n",
    "    classifier.fit(X_train, y_train)\n",
    "    \n",
    "    # Vectorize titles and summary separately\n",
    "    X_title = title_cv.transform(X_test[:, 0])\n",
    "    X_summary = summary_cv.transform(X_test[:, 1])\n",
    "    \n",
    "    # Apply SVD transformation n_components=20 and 100 separately\n",
    "    X_title = svd_title.transform(X_title)\n",
    "    X_summary = svd_summary.transform(X_summary)\n",
    "    \n",
    "    # Concatenate title and summary svd representation\n",
    "    X_test = np.concatenate((X_title, X_summary), axis=1)\n",
    "    \n",
    "    # predict test set\n",
    "    y_pred = classifier.predict(X_test)\n",
    "\n",
    "    # Making the Confusion Matrix\n",
    "    cm = confusion_matrix(y_test, y_pred)\n",
    "    class_names = ['A','B','C','D','E','F','G','H']\n",
    "    # Plot non-normalized confusion matrix\n",
    "    plt.figure()\n",
    "    plot_confusion_matrix(cm, classes=class_names, title='Matriz de Confusao')\n",
    "    plt.show()\n",
    "    \n",
    "    acc = accuracy_score(y_test, y_pred)\n",
    "    accuracies.append(acc)\n",
    "    print('Acuracia: ' + str(acc))\n",
    "    \n",
    "    ps = [[], [], [], [], [], [], [], []]\n",
    "    for i in range(8):\n",
    "        #ps[i] = accuracy_score(y_test[:,i], y_pred[:,i])\n",
    "        ps[i] = cm[i, i] / np.array(cm[i, :]).sum()\n",
    "        precisions.append(ps[i])\n",
    "        print('Acuracia '+chr(i + 65)+': ' + str(ps[i]))\n",
    "        \n",
    "    print('\\n')\n",
    "    break"
   ]
  },
  {
   "cell_type": "code",
   "execution_count": null,
   "metadata": {
    "collapsed": false
   },
   "outputs": [],
   "source": []
  },
  {
   "cell_type": "code",
   "execution_count": null,
   "metadata": {
    "collapsed": true
   },
   "outputs": [],
   "source": []
  }
 ],
 "metadata": {
  "anaconda-cloud": {},
  "kernelspec": {
   "display_name": "Python [conda root]",
   "language": "python",
   "name": "conda-root-py"
  },
  "language_info": {
   "codemirror_mode": {
    "name": "ipython",
    "version": 3
   },
   "file_extension": ".py",
   "mimetype": "text/x-python",
   "name": "python",
   "nbconvert_exporter": "python",
   "pygments_lexer": "ipython3",
   "version": "3.5.2"
  }
 },
 "nbformat": 4,
 "nbformat_minor": 1
}
