{
 "cells": [
  {
   "cell_type": "code",
   "execution_count": 1,
   "metadata": {
    "collapsed": false
   },
   "outputs": [],
   "source": [
    "#!/usr/bin/env python3\n",
    "# -*- coding: utf-8 -*-\n",
    "\"\"\"\n",
    "Created on Mon Aug 14 22:14:55 2017\n",
    "@author: rodrigo\n",
    "\"\"\"\n",
    "\n",
    "# Importing the libraries\n",
    "import numpy as np\n",
    "import matplotlib.pyplot as plt\n",
    "import pandas as pd\n",
    "import seaborn as sns\n",
    "import operator as op\n",
    "import re\n",
    "import random"
   ]
  },
  {
   "cell_type": "code",
   "execution_count": 17,
   "metadata": {
    "collapsed": true
   },
   "outputs": [],
   "source": [
    "# Importing the dataset\n",
    "# by with one class\n",
    "def get_dataset():\n",
    "    \n",
    "    X = []\n",
    "    \n",
    "    with open('full.csv', 'r', encoding=\"latin-1\") as file:\n",
    "        for line in file:\n",
    "            data = line.split('|')\n",
    "            if len(data) == 7:\n",
    "                data_classes = data[1].split(',')\n",
    "                if len(data_classes) == 1:\n",
    "                    for cl in data_classes:\n",
    "                        c = cl.upper()\n",
    "                        c = c.replace(' ', '')\n",
    "                        a = re.search(r'([A-Z])([0-9]{2})([A-Z])', c, re.M|re.I)\n",
    "                        try:\n",
    "                            if a.group(1) in ['A', 'B', 'C', 'D', 'E', 'F', 'G', 'H']:\n",
    "                                cls = ord(a.group(1)) - 65 #letter to int\n",
    "                                X.append([data[2], data[3], cls])\n",
    "                        except:\n",
    "                            pass\n",
    "\n",
    "    return X"
   ]
  },
  {
   "cell_type": "code",
   "execution_count": 18,
   "metadata": {
    "collapsed": false
   },
   "outputs": [],
   "source": [
    "# get dataset\n",
    "dataset = get_dataset()"
   ]
  },
  {
   "cell_type": "code",
   "execution_count": 22,
   "metadata": {
    "collapsed": false
   },
   "outputs": [],
   "source": []
  },
  {
   "cell_type": "code",
   "execution_count": 23,
   "metadata": {
    "collapsed": false
   },
   "outputs": [
    {
     "data": {
      "text/plain": [
       "194750"
      ]
     },
     "execution_count": 23,
     "metadata": {},
     "output_type": "execute_result"
    }
   ],
   "source": [
    "len(dataset)"
   ]
  },
  {
   "cell_type": "code",
   "execution_count": 26,
   "metadata": {
    "collapsed": false
   },
   "outputs": [],
   "source": [
    "# shuffle\n",
    "random.shuffle(dataset)"
   ]
  },
  {
   "cell_type": "code",
   "execution_count": 33,
   "metadata": {
    "collapsed": false
   },
   "outputs": [
    {
     "data": {
      "image/png": "[encoded data removed]",
      "text/plain": [
       "<matplotlib.figure.Figure at 0x7f7fa9b2b518>"
      ]
     },
     "metadata": {},
     "output_type": "display_data"
    },
    {
     "data": {
      "text/plain": [
       "{0: 49184, 1: 48555, 2: 17861, 3: 4501, 4: 12645, 5: 22424, 6: 20977, 7: 18603}"
      ]
     },
     "execution_count": 33,
     "metadata": {},
     "output_type": "execute_result"
    }
   ],
   "source": [
    "# count examples per class\n",
    "classes_count = {}\n",
    "for data in dataset:\n",
    "    if data[2] in classes_count:\n",
    "        classes_count[data[2]] += 1\n",
    "    else:\n",
    "        classes_count[data[2]] = 1\n",
    "\n",
    "sorted_keys, sorted_vals = zip(*sorted(classes_count.items(), key=op.itemgetter(0)))\n",
    "plt.figure(figsize=(12,6))\n",
    "sns.barplot(sorted_keys, sorted_vals, alpha=0.8)\n",
    "plt.ylabel('Número de pedido de patentes', fontsize=12)\n",
    "plt.xlabel('Classe de 1º nível', fontsize=12)\n",
    "plt.xticks(rotation='vertical')\n",
    "plt.show()\n",
    "\n",
    "classes_count\n"
   ]
  },
  {
   "cell_type": "code",
   "execution_count": 41,
   "metadata": {
    "collapsed": true
   },
   "outputs": [],
   "source": [
    "# Cleaning the texts\n",
    "# remove everything but letters\n",
    "import re\n",
    "import nltk\n",
    "import unidecode\n",
    "from nltk.stem.snowball import SnowballStemmer\n",
    "from nltk.corpus import stopwords\n",
    "\n",
    "stemmer = SnowballStemmer('portuguese')\n",
    "#stopwords = stopwords.words('portuguese')\n",
    "#stopwords = [unidecode.unidecode(w) for w in stopwords]\n",
    "stopwords = []\n",
    "dataset_stemmer = []\n",
    "X = dataset\n",
    "for i in range(len(X)):\n",
    "    title = X[i][0].split()\n",
    "    summary = X[i][1].split()\n",
    "    for j in range(len(title)):\n",
    "        title[j] = re.sub('[^a-zA-Z]', '', title[j].lower())\n",
    "    for j in range(len(summary)):\n",
    "        summary[j] = re.sub('[^a-zA-Z]', '', summary[j].lower())\n",
    "    title = [stemmer.stem(st) for st in title if st not in stopwords and len(st) > 2]\n",
    "    summary = [stemmer.stem(st) for st in summary if st not in stopwords and len(st) > 2]\n",
    "    title = ' '.join(title)\n",
    "    summary = ' '.join(summary)\n",
    "    dataset_stemmer.append([title, summary, X[i][2]])\n"
   ]
  },
  {
   "cell_type": "code",
   "execution_count": 42,
   "metadata": {
    "collapsed": false
   },
   "outputs": [
    {
     "data": {
      "text/plain": [
       "['painel plastic luminiscent',\n",
       " 'painel plastic luminiscent constitu plac plastic transparent transluc sulc uma das fac maior ilumin uma mais fac menor later form sulc apresent luminiscenc por reflexa luz incident intern material destacandos corp plac',\n",
       " 6]"
      ]
     },
     "execution_count": 42,
     "metadata": {},
     "output_type": "execute_result"
    }
   ],
   "source": [
    "dataset_stemmer[0]"
   ]
  },
  {
   "cell_type": "code",
   "execution_count": 43,
   "metadata": {
    "collapsed": false
   },
   "outputs": [
    {
     "data": {
      "text/plain": [
       "[\"Painel pl'astico luminiscente\",\n",
       " '\"PAINEL PL\\'ASTICO LUMINISCENTE\", constitu\\'ido de placa pl\\'astica transparente ou transl\\'ucida, sulcada em uma das faces maiores e iluminada em uma ou mais faces menores laterais, de forma a os sulcos apresentarem luminisc^encia por reflex~ao da luz incidente internamente ao material, destacando-se do corpo da placa.',\n",
       " 6]"
      ]
     },
     "execution_count": 43,
     "metadata": {},
     "output_type": "execute_result"
    }
   ],
   "source": [
    "dataset[0]"
   ]
  },
  {
   "cell_type": "code",
   "execution_count": 44,
   "metadata": {
    "collapsed": true
   },
   "outputs": [],
   "source": [
    "df = pd.DataFrame(dataset)\n",
    "df.to_csv('full_8classes.csv', encoding='latin-1')\n",
    "\n",
    "df = pd.DataFrame(dataset_stemmer)\n",
    "df.to_csv('full_8classes_stemmer.csv', encoding='latin-1')"
   ]
  },
  {
   "cell_type": "code",
   "execution_count": 50,
   "metadata": {
    "collapsed": true
   },
   "outputs": [],
   "source": [
    "# get small train set and test set\n",
    "# shuffle\n",
    "random.shuffle(dataset)\n",
    "# for 4k all classes are balanced with 4k examples\n",
    "dataset_4k_stemmer_train = []\n",
    "dataset_4k_stemmer_test = []\n",
    "cls = [0]*8\n",
    "for data in dataset_stemmer:\n",
    "    if cls[data[2]] < 4000:\n",
    "        cls[data[2]] += 1\n",
    "        dataset_4k_stemmer_train.append(data)\n",
    "    else:\n",
    "        dataset_4k_stemmer_test.append(data)\n",
    "        \n",
    "df = pd.DataFrame(dataset_4k_stemmer_train)\n",
    "df.to_csv('dataset_4k_stemmer_train.csv', encoding='latin-1')\n",
    "df = pd.DataFrame(dataset_4k_stemmer_test)\n",
    "df.to_csv('dataset_4k_stemmer_test.csv', encoding='latin-1')"
   ]
  },
  {
   "cell_type": "code",
   "execution_count": 55,
   "metadata": {
    "collapsed": false
   },
   "outputs": [],
   "source": [
    "# get small train set and test set\n",
    "# shuffle\n",
    "random.shuffle(dataset)\n",
    "# for 12k, all classes are balanced with 12k examples except for D (3) with 4k.\n",
    "# class D is then oversampled\n",
    "dataset_12k_stemmer_train = []\n",
    "dataset_12k_stemmer_test = []\n",
    "cls = [0]*8\n",
    "for data in dataset_stemmer:\n",
    "    if data[2] == 3:\n",
    "        if cls[data[2]] < 4000:\n",
    "            cls[data[2]] += 1\n",
    "            dataset_12k_stemmer_train.append(data)\n",
    "            dataset_12k_stemmer_train.append(data)\n",
    "            dataset_12k_stemmer_train.append(data)\n",
    "        else:\n",
    "            dataset_12k_stemmer_test.append(data)\n",
    "    elif  cls[data[2]] < 12000:\n",
    "        cls[data[2]] += 1\n",
    "        dataset_12k_stemmer_train.append(data)\n",
    "    else:\n",
    "        dataset_12k_stemmer_test.append(data)\n",
    "        \n",
    "df = pd.DataFrame(dataset_12k_stemmer_train)\n",
    "df.to_csv('dataset_12k_stemmer_train.csv', encoding='latin-1')\n",
    "df = pd.DataFrame(dataset_12k_stemmer_test)\n",
    "df.to_csv('dataset_12k_stemmer_test.csv', encoding='latin-1')"
   ]
  },
  {
   "cell_type": "code",
   "execution_count": 3,
   "metadata": {
    "collapsed": false
   },
   "outputs": [],
   "source": [
    "# Importing the dataset\n",
    "# by a first class\n",
    "def get_dataset_first():\n",
    "    \n",
    "    X = []\n",
    "    \n",
    "    with open('full.csv', 'r', encoding=\"latin-1\") as file:\n",
    "        for line in file:\n",
    "            data = line.split('|')\n",
    "            if len(data) == 7:\n",
    "                data_classes = data[1].split(',')\n",
    "                cl = data_classes[0]\n",
    "                c = cl.upper()\n",
    "                c = c.replace(' ', '')\n",
    "                a = re.search(r'([A-Z])([0-9]{2})([A-Z])', c, re.M|re.I)\n",
    "                try:\n",
    "                    if a.group(1) in ['A', 'B', 'C', 'D', 'E', 'F', 'G', 'H']:\n",
    "                        cls = ord(a.group(1)) - 65 #letter to int\n",
    "                        X.append([data[2], data[3], cls])\n",
    "                except:\n",
    "                    pass\n",
    "\n",
    "    return X"
   ]
  },
  {
   "cell_type": "code",
   "execution_count": 4,
   "metadata": {
    "collapsed": true
   },
   "outputs": [],
   "source": [
    "# get dataset\n",
    "dataset_f = get_dataset_first()"
   ]
  },
  {
   "cell_type": "code",
   "execution_count": 5,
   "metadata": {
    "collapsed": false
   },
   "outputs": [
    {
     "data": {
      "text/plain": [
       "354382"
      ]
     },
     "execution_count": 5,
     "metadata": {},
     "output_type": "execute_result"
    }
   ],
   "source": [
    "len(dataset_f)"
   ]
  },
  {
   "cell_type": "code",
   "execution_count": 6,
   "metadata": {
    "collapsed": false
   },
   "outputs": [
    {
     "data": {
      "text/plain": [
       "['Processo para a fabrica$c~ao de budesonida',\n",
       " \"A presente inven$c~ao se relaciona a um processo novo para a fabrica$c~ao de (22 R,S)-16<224>, 17<224> butilidenodioxi-11<F128M>b<F255D>, 21-dihidroxipregna-1,4-dieno-3,20-diona (I), reagindo-se 11<F128M>b<F255D>, 16<224>,17<224>, 21-tetrahidroxipregna-1,4-dieno-3,20-diona (II) com butanol, CH~ 3~ CH~ 2~ CH~ 2~CHO em acetonitrila com 'acido p-tolueno sulf^onico com um catalisador.\",\n",
       " 2]"
      ]
     },
     "execution_count": 6,
     "metadata": {},
     "output_type": "execute_result"
    }
   ],
   "source": [
    "dataset_f[0]"
   ]
  },
  {
   "cell_type": "code",
   "execution_count": 8,
   "metadata": {
    "collapsed": false
   },
   "outputs": [],
   "source": [
    "# Cleaning the texts\n",
    "# remove everything but letters\n",
    "import re\n",
    "import nltk\n",
    "import unidecode\n",
    "from nltk.stem.snowball import SnowballStemmer\n",
    "from nltk.corpus import stopwords\n",
    "\n",
    "stemmer = SnowballStemmer('portuguese')\n",
    "dataset_f_stemmer = []\n",
    "X = dataset_f\n",
    "for i in range(len(X)):\n",
    "    title = X[i][0].split()\n",
    "    summary = X[i][1].split()\n",
    "    for j in range(len(title)):\n",
    "        title[j] = re.sub('[^a-zA-Z]', '', title[j].lower())\n",
    "    for j in range(len(summary)):\n",
    "        summary[j] = re.sub('[^a-zA-Z]', '', summary[j].lower())\n",
    "    title = [stemmer.stem(st) for st in title]\n",
    "    summary = [stemmer.stem(st) for st in summary]\n",
    "    title = ' '.join(title)\n",
    "    summary = ' '.join(summary)\n",
    "    dataset_f_stemmer.append([title, summary, X[i][2]])"
   ]
  },
  {
   "cell_type": "code",
   "execution_count": 10,
   "metadata": {
    "collapsed": true
   },
   "outputs": [],
   "source": [
    "df = pd.DataFrame(dataset_f_stemmer)\n",
    "df.to_csv('full_8classes_f_stemmer.csv', encoding='latin-1')"
   ]
  },
  {
   "cell_type": "code",
   "execution_count": 11,
   "metadata": {
    "collapsed": false
   },
   "outputs": [
    {
     "data": {
      "image/png": "[encoded data removed]",
      "text/plain": [
       "<matplotlib.figure.Figure at 0x7fbb02313400>"
      ]
     },
     "metadata": {},
     "output_type": "display_data"
    },
    {
     "data": {
      "text/plain": [
       "{0: 86248, 1: 76929, 2: 66779, 3: 7787, 4: 18497, 5: 32449, 6: 33208, 7: 32485}"
      ]
     },
     "execution_count": 11,
     "metadata": {},
     "output_type": "execute_result"
    }
   ],
   "source": [
    "# count examples per class\n",
    "classes_count = {}\n",
    "for data in dataset_f:\n",
    "    if data[2] in classes_count:\n",
    "        classes_count[data[2]] += 1\n",
    "    else:\n",
    "        classes_count[data[2]] = 1\n",
    "\n",
    "sorted_keys, sorted_vals = zip(*sorted(classes_count.items(), key=op.itemgetter(0)))\n",
    "plt.figure(figsize=(12,6))\n",
    "sns.barplot(sorted_keys, sorted_vals, alpha=0.8)\n",
    "plt.ylabel('Número de pedido de patentes', fontsize=12)\n",
    "plt.xlabel('Primeira classe', fontsize=12)\n",
    "plt.xticks(rotation='vertical')\n",
    "plt.show()\n",
    "\n",
    "classes_count\n"
   ]
  },
  {
   "cell_type": "code",
   "execution_count": 12,
   "metadata": {
    "collapsed": true
   },
   "outputs": [],
   "source": [
    "# Cleaning the texts\n",
    "# remove everything but letters\n",
    "import re\n",
    "import nltk\n",
    "import unidecode\n",
    "from nltk.stem.snowball import SnowballStemmer\n",
    "from nltk.corpus import stopwords\n",
    "\n",
    "stemmer = SnowballStemmer('portuguese')\n",
    "dataset_f_no_stemmer = []\n",
    "X = dataset_f\n",
    "for i in range(len(X)):\n",
    "    title = X[i][0].split()\n",
    "    summary = X[i][1].split()\n",
    "    for j in range(len(title)):\n",
    "        title[j] = re.sub('[^a-zA-Z]', '', title[j].lower())\n",
    "    for j in range(len(summary)):\n",
    "        summary[j] = re.sub('[^a-zA-Z]', '', summary[j].lower())\n",
    "    title = ' '.join(title)\n",
    "    summary = ' '.join(summary)\n",
    "    dataset_f_no_stemmer.append([title, summary, X[i][2]])\n",
    "    \n",
    "df = pd.DataFrame(dataset_f_no_stemmer)\n",
    "df.to_csv('full_8classes_f_no_stemmer.csv', encoding='latin-1')"
   ]
  },
  {
   "cell_type": "code",
   "execution_count": 13,
   "metadata": {
    "collapsed": false
   },
   "outputs": [
    {
     "data": {
      "text/plain": [
       "['processo para a fabricacao de budesonida',\n",
       " 'a presente invencao se relaciona a um processo novo para a fabricacao de  rs  butilidenodioxifmbfd dihidroxipregnadienodiona i reagindose fmbfd  tetrahidroxipregnadienodiona ii com butanol ch  ch  ch cho em acetonitrila com acido ptolueno sulfonico com um catalisador',\n",
       " 2]"
      ]
     },
     "execution_count": 13,
     "metadata": {},
     "output_type": "execute_result"
    }
   ],
   "source": [
    "dataset_f_no_stemmer[0]"
   ]
  },
  {
   "cell_type": "code",
   "execution_count": 14,
   "metadata": {
    "collapsed": false
   },
   "outputs": [
    {
     "data": {
      "text/plain": [
       "['process par a fabricaca de budeson',\n",
       " 'a present invenca se relacion a um process nov par a fabricaca de  rs  butilidenodioxifmbfd dihidroxipregnadienodion i reagindos fmbfd  tetrahidroxipregnadienodion ii com butanol ch  ch  ch cho em acetonitril com acid ptoluen sulfon com um catalis',\n",
       " 2]"
      ]
     },
     "execution_count": 14,
     "metadata": {},
     "output_type": "execute_result"
    }
   ],
   "source": [
    "dataset_f_stemmer[0]"
   ]
  },
  {
   "cell_type": "code",
   "execution_count": null,
   "metadata": {
    "collapsed": true
   },
   "outputs": [],
   "source": []
  }
 ],
 "metadata": {
  "anaconda-cloud": {},
  "kernelspec": {
   "display_name": "Python [conda root]",
   "language": "python",
   "name": "conda-root-py"
  },
  "language_info": {
   "codemirror_mode": {
    "name": "ipython",
    "version": 3
   },
   "file_extension": ".py",
   "mimetype": "text/x-python",
   "name": "python",
   "nbconvert_exporter": "python",
   "pygments_lexer": "ipython3",
   "version": "3.5.2"
  }
 },
 "nbformat": 4,
 "nbformat_minor": 1
}
