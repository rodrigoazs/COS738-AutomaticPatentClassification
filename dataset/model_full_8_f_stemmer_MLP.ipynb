{
 "cells": [
  {
   "cell_type": "code",
   "execution_count": 1,
   "metadata": {
    "collapsed": true
   },
   "outputs": [],
   "source": [
    "# importing libraries\n",
    "import numpy as np\n",
    "import pandas as pd"
   ]
  },
  {
   "cell_type": "code",
   "execution_count": 2,
   "metadata": {
    "collapsed": true
   },
   "outputs": [],
   "source": [
    "# Importing the dataset\n",
    "dataset = pd.read_csv('full_8classes_f_stemmer.csv')\n",
    "X = dataset.iloc[:, 1:-1].values\n",
    "y = dataset.iloc[:, 3].values"
   ]
  },
  {
   "cell_type": "code",
   "execution_count": 3,
   "metadata": {},
   "outputs": [
    {
     "data": {
      "text/plain": [
       "354382"
      ]
     },
     "execution_count": 3,
     "metadata": {},
     "output_type": "execute_result"
    }
   ],
   "source": [
    "len(X)"
   ]
  },
  {
   "cell_type": "code",
   "execution_count": 4,
   "metadata": {
    "collapsed": true
   },
   "outputs": [],
   "source": [
    "len(X)\n",
    "\n",
    "import matplotlib.pyplot as plt\n",
    "\n",
    "import itertools\n",
    "def plot_confusion_matrix(cm, classes,\n",
    "                          normalize=False,\n",
    "                          title='Confusion matrix',\n",
    "                          cmap=plt.cm.Greys):\n",
    "    \"\"\"\n",
    "    This function prints and plots the confusion matrix.\n",
    "    Normalization can be applied by setting `normalize=True`.\n",
    "    \"\"\"\n",
    "    plt.imshow(cm, interpolation='nearest', cmap=cmap)\n",
    "    plt.title(title)\n",
    "    plt.colorbar()\n",
    "    tick_marks = np.arange(len(classes))\n",
    "    plt.xticks(tick_marks, classes, rotation=45)\n",
    "    plt.yticks(tick_marks, classes)\n",
    "\n",
    "    if normalize:\n",
    "        cm = cm.astype('float') / cm.sum(axis=1)[:, np.newaxis]\n",
    "        print(\"Normalized confusion matrix\")\n",
    "    else:\n",
    "        print('Confusion matrix, without normalization')\n",
    "\n",
    "    print(cm)\n",
    "\n",
    "    thresh = cm.max() / 2.\n",
    "    for i, j in itertools.product(range(cm.shape[0]), range(cm.shape[1])):\n",
    "        plt.text(j, i, cm[i, j],\n",
    "                 horizontalalignment=\"center\",\n",
    "                 color=\"white\" if cm[i, j] > thresh else \"black\")\n",
    "\n",
    "    plt.tight_layout()\n",
    "    plt.ylabel('Classe verdadeira')\n",
    "    plt.xlabel('Classe prevista')"
   ]
  },
  {
   "cell_type": "code",
   "execution_count": 5,
   "metadata": {
    "collapsed": true
   },
   "outputs": [],
   "source": [
    "# fix empty values\n",
    "for i in range(len(X[:, 0])):\n",
    "    if type(X[i, 0]) is not str:\n",
    "        X[i, 0] = ''\n",
    "for i in range(len(X[:, 1])):\n",
    "    if type(X[i, 1]) is not str:\n",
    "        X[i, 1] = ''"
   ]
  },
  {
   "cell_type": "code",
   "execution_count": 6,
   "metadata": {
    "collapsed": true
   },
   "outputs": [],
   "source": [
    "# Stratified 10-fold cross-validation\n",
    "from sklearn.model_selection import StratifiedKFold\n",
    "from sklearn.feature_extraction.text import CountVectorizer\n",
    "from sklearn.decomposition import TruncatedSVD\n",
    "from sklearn.metrics import confusion_matrix\n",
    "from sklearn.metrics import accuracy_score\n",
    "from sklearn.neural_network import MLPClassifier\n",
    "from sklearn.ensemble import RandomForestClassifier\n",
    "\n",
    "accuracies = []\n",
    "precisions = [[], [], [], [], [], [], [], []]"
   ]
  },
  {
   "cell_type": "code",
   "execution_count": 7,
   "metadata": {
    "collapsed": true
   },
   "outputs": [],
   "source": [
    "# split strafified kfold\n",
    "skf = StratifiedKFold(n_splits=10, shuffle=True)\n",
    "splits = skf.split(X, y)"
   ]
  },
  {
   "cell_type": "code",
   "execution_count": 8,
   "metadata": {},
   "outputs": [
    {
     "name": "stdout",
     "output_type": "stream",
     "text": [
      "X_train size: 318942\n",
      "X_test size: 35440\n",
      "Iteration 1, loss = 1.07712932\n",
      "Iteration 2, loss = 0.94083984\n",
      "Iteration 3, loss = 0.89020877\n",
      "Iteration 4, loss = 0.85883435\n",
      "Iteration 5, loss = 0.83704562\n",
      "Iteration 6, loss = 0.81984057\n",
      "Iteration 7, loss = 0.80643217\n",
      "Iteration 8, loss = 0.79570777\n",
      "Iteration 9, loss = 0.78652420\n",
      "Iteration 10, loss = 0.77847013\n",
      "Iteration 11, loss = 0.77174454\n",
      "Iteration 12, loss = 0.76623780\n",
      "Iteration 13, loss = 0.76140352\n",
      "Iteration 14, loss = 0.75683662\n",
      "Iteration 15, loss = 0.75261332\n",
      "Iteration 16, loss = 0.74937917\n",
      "Iteration 17, loss = 0.74536373\n",
      "Iteration 18, loss = 0.74288364\n",
      "Iteration 19, loss = 0.73945792\n",
      "Iteration 20, loss = 0.73746913\n",
      "Iteration 21, loss = 0.73489178\n",
      "Iteration 22, loss = 0.73201728\n",
      "Iteration 23, loss = 0.72997497\n",
      "Iteration 24, loss = 0.72837311\n",
      "Iteration 25, loss = 0.72634176\n",
      "Iteration 26, loss = 0.72466102\n",
      "Iteration 27, loss = 0.72281831\n",
      "Iteration 28, loss = 0.72162090\n",
      "Iteration 29, loss = 0.71959512\n",
      "Iteration 30, loss = 0.71831992\n",
      "Iteration 31, loss = 0.71662903\n",
      "Iteration 32, loss = 0.71520602\n",
      "Iteration 33, loss = 0.71442034\n",
      "Iteration 34, loss = 0.71264503\n",
      "Iteration 35, loss = 0.71168124\n",
      "Iteration 36, loss = 0.71030497\n",
      "Iteration 37, loss = 0.70943139\n",
      "Iteration 38, loss = 0.70856283\n",
      "Iteration 39, loss = 0.70726449\n",
      "Iteration 40, loss = 0.70642390\n",
      "Iteration 41, loss = 0.70559642\n",
      "Iteration 42, loss = 0.70476987\n",
      "Iteration 43, loss = 0.70365048\n",
      "Iteration 44, loss = 0.70271320\n",
      "Iteration 45, loss = 0.70234152\n",
      "Iteration 46, loss = 0.70141074\n",
      "Iteration 47, loss = 0.70028882\n",
      "Iteration 48, loss = 0.69951135\n",
      "Iteration 49, loss = 0.69911730\n",
      "Iteration 50, loss = 0.69800808\n",
      "Iteration 51, loss = 0.69800519\n",
      "Iteration 52, loss = 0.69711708\n",
      "Iteration 53, loss = 0.69620225\n",
      "Iteration 54, loss = 0.69588358\n",
      "Iteration 55, loss = 0.69523436\n",
      "Iteration 56, loss = 0.69438063\n",
      "Iteration 57, loss = 0.69418096\n",
      "Iteration 58, loss = 0.69293708\n",
      "Iteration 59, loss = 0.69320104\n",
      "Iteration 60, loss = 0.69213795\n",
      "Iteration 61, loss = 0.69170391\n",
      "Iteration 62, loss = 0.69108493\n",
      "Iteration 63, loss = 0.69081139\n",
      "Iteration 64, loss = 0.69030833\n",
      "Iteration 65, loss = 0.68995802\n",
      "Iteration 66, loss = 0.68915397\n",
      "Iteration 67, loss = 0.68862145\n",
      "Iteration 68, loss = 0.68804806\n",
      "Iteration 69, loss = 0.68814577\n",
      "Iteration 70, loss = 0.68758910\n",
      "Iteration 71, loss = 0.68702886\n",
      "Iteration 72, loss = 0.68661441\n",
      "Iteration 73, loss = 0.68637218\n",
      "Iteration 74, loss = 0.68562058\n",
      "Iteration 75, loss = 0.68545369\n",
      "Iteration 76, loss = 0.68533866\n",
      "Iteration 77, loss = 0.68514863\n",
      "Iteration 78, loss = 0.68450516\n",
      "Iteration 79, loss = 0.68408260\n",
      "Iteration 80, loss = 0.68372589\n",
      "Iteration 81, loss = 0.68328238\n",
      "Iteration 82, loss = 0.68305375\n",
      "Iteration 83, loss = 0.68276186\n",
      "Iteration 84, loss = 0.68243708\n",
      "Iteration 85, loss = 0.68190961\n",
      "Iteration 86, loss = 0.68171547\n",
      "Iteration 87, loss = 0.68142789\n",
      "Iteration 88, loss = 0.68111176\n",
      "Iteration 89, loss = 0.68089999\n",
      "Iteration 90, loss = 0.68043699\n",
      "Iteration 91, loss = 0.68032248\n",
      "Iteration 92, loss = 0.67997356\n",
      "Iteration 93, loss = 0.67964674\n",
      "Iteration 94, loss = 0.67930580\n",
      "Iteration 95, loss = 0.67933587\n",
      "Iteration 96, loss = 0.67891333\n",
      "Iteration 97, loss = 0.67857077\n",
      "Iteration 98, loss = 0.67846321\n",
      "Iteration 99, loss = 0.67798412\n",
      "Iteration 100, loss = 0.67781967\n",
      "Iteration 101, loss = 0.67780714\n",
      "Iteration 102, loss = 0.67719355\n",
      "Iteration 103, loss = 0.67719132\n",
      "Iteration 104, loss = 0.67666239\n",
      "Iteration 105, loss = 0.67672725\n",
      "Iteration 106, loss = 0.67672091\n",
      "Iteration 107, loss = 0.67666892\n",
      "Training loss did not improve more than tol=0.000100 for two consecutive epochs. Stopping.\n",
      "Confusion matrix, without normalization\n",
      "[[5849 1042  868   60  181  259  261  105]\n",
      " [ 936 4909  571   99  201  542  296  139]\n",
      " [ 535  327 5570   62   35   57   63   29]\n",
      " [ 107  135  124  355    9   28   12    9]\n",
      " [ 249  339   51    8  951  139   66   47]\n",
      " [ 272  571   85    9  110 1984   95  119]\n",
      " [ 306  405  121   16   78  105 1840  450]\n",
      " [ 129  176   52    8   36  146  387 2315]]\n"
     ]
    },
    {
     "data": {
      "image/png": "[encoded data removed]",
      "text/plain": [
       "<matplotlib.figure.Figure at 0x7fc1c719e358>"
      ]
     },
     "metadata": {},
     "output_type": "display_data"
    },
    {
     "name": "stdout",
     "output_type": "stream",
     "text": [
      "Acuracia: 0.670795711061\n",
      "Acuracia A: 0.678144927536\n",
      "Acuracia B: 0.638112569869\n",
      "Acuracia C: 0.834082060497\n",
      "Acuracia D: 0.455712451861\n",
      "Acuracia E: 0.514054054054\n",
      "Acuracia F: 0.611402157165\n",
      "Acuracia G: 0.554049984944\n",
      "Acuracia H: 0.712526931363\n",
      "\n",
      "\n"
     ]
    }
   ],
   "source": [
    "for train_index, test_index in splits:\n",
    "    X_train, X_test = X[train_index], X[test_index]\n",
    "    y_train, y_test = y[train_index], y[test_index]\n",
    "    \n",
    "    print('X_train size: ' + str(len(X_train)))\n",
    "    print('X_test size: ' + str(len(X_test)))\n",
    "    \n",
    "    # Vectorize titles and summary separately\n",
    "    \n",
    "    title_cv = CountVectorizer(max_features = None, ngram_range=(1,1))\n",
    "    X_title = title_cv.fit_transform(X_train[:, 0])\n",
    "    summary_cv = CountVectorizer(max_features = None, ngram_range=(1,1))\n",
    "    X_summary = summary_cv.fit_transform(X_train[:, 1])\n",
    "    \n",
    "    # Apply SVD transformation n_components=20 and 100 separately\n",
    "    svd_title = TruncatedSVD(n_components=100)\n",
    "    X_title = svd_title.fit_transform(X_title)\n",
    "    svd_summary = TruncatedSVD(n_components=400)\n",
    "    X_summary = svd_summary.fit_transform(X_summary)\n",
    "    \n",
    "    # Concatenate title and summary svd representation\n",
    "    X_train = np.concatenate((X_title, X_summary), axis=1)\n",
    "    \n",
    "    # train the model\n",
    "    classifier = MLPClassifier(verbose=2) # RandomForestClassifier(n_estimators = 100, criterion = 'entropy', n_jobs=-1, verbose=2)\n",
    "    classifier.fit(X_train, y_train)\n",
    "    \n",
    "    # Vectorize titles and summary separately\n",
    "    X_title = title_cv.transform(X_test[:, 0])\n",
    "    X_summary = summary_cv.transform(X_test[:, 1])\n",
    "    \n",
    "    # Apply SVD transformation n_components=20 and 100 separately\n",
    "    X_title = svd_title.transform(X_title)\n",
    "    X_summary = svd_summary.transform(X_summary)\n",
    "    \n",
    "    # Concatenate title and summary svd representation\n",
    "    X_test = np.concatenate((X_title, X_summary), axis=1)\n",
    "    \n",
    "    # predict test set\n",
    "    y_pred = classifier.predict(X_test)\n",
    "\n",
    "    # Making the Confusion Matrix\n",
    "    cm = confusion_matrix(y_test, y_pred)\n",
    "    class_names = ['A','B','C','D','E','F','G','H']\n",
    "    # Plot non-normalized confusion matrix\n",
    "    plt.figure()\n",
    "    plot_confusion_matrix(cm, classes=class_names, title='Matriz de Confusao')\n",
    "    plt.show()\n",
    "    \n",
    "    acc = accuracy_score(y_test, y_pred)\n",
    "    accuracies.append(acc)\n",
    "    print('Acuracia: ' + str(acc))\n",
    "    \n",
    "    ps = [[], [], [], [], [], [], [], []]\n",
    "    for i in range(8):\n",
    "        #ps[i] = accuracy_score(y_test[:,i], y_pred[:,i])\n",
    "        ps[i] = cm[i, i] / np.array(cm[i, :]).sum()\n",
    "        precisions.append(ps[i])\n",
    "        print('Acuracia '+chr(i + 65)+': ' + str(ps[i]))\n",
    "        \n",
    "    print('\\n')\n",
    "    break"
   ]
  },
  {
   "cell_type": "code",
   "execution_count": null,
   "metadata": {
    "collapsed": true
   },
   "outputs": [],
   "source": []
  },
  {
   "cell_type": "code",
   "execution_count": null,
   "metadata": {
    "collapsed": true
   },
   "outputs": [],
   "source": []
  }
 ],
 "metadata": {
  "anaconda-cloud": {},
  "kernelspec": {
   "display_name": "Python 3",
   "language": "python",
   "name": "python3"
  },
  "language_info": {
   "codemirror_mode": {
    "name": "ipython",
    "version": 3
   },
   "file_extension": ".py",
   "mimetype": "text/x-python",
   "name": "python",
   "nbconvert_exporter": "python",
   "pygments_lexer": "ipython3",
   "version": "3.5.2"
  }
 },
 "nbformat": 4,
 "nbformat_minor": 1
}
